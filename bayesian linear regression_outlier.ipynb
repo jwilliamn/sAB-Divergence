{
 "cells": [
  {
   "cell_type": "code",
   "execution_count": 1,
   "metadata": {},
   "outputs": [],
   "source": [
    "import numpy as np\n",
    "import torch\n",
    "from torch.autograd import Variable\n",
    "import matplotlib.pyplot as plt\n",
    "%matplotlib inline\n",
    "plt.style.use('ggplot')"
   ]
  },
  {
   "cell_type": "code",
   "execution_count": 29,
   "metadata": {},
   "outputs": [
    {
     "data": {
      "image/png": "[encoded data removed]",
      "text/plain": [
       "<Figure size 432x288 with 1 Axes>"
      ]
     },
     "metadata": {},
     "output_type": "display_data"
    }
   ],
   "source": [
    "N = 1000\n",
    "m = 25\n",
    "np.random.seed(42)\n",
    "\n",
    "X = np.random.normal(0,1, N)\n",
    "x_outlier = np.random.normal(15,1, m)\n",
    "noise = np.random.normal(0,0.1, N)\n",
    "T = 0.1 * X + noise\n",
    "T[10:10+m] = 0.1* x_outlier\n",
    "\n",
    "X = X.reshape(N,1)\n",
    "T = T.reshape(N,1)\n",
    "plt.scatter(X,T)\n",
    "plt.savefig('outlier.eps')"
   ]
  },
  {
   "cell_type": "code",
   "execution_count": 3,
   "metadata": {},
   "outputs": [],
   "source": [
    "def log_norm(x, mu, std):\n",
    "    \"\"\"Compute the log pdf of x,\n",
    "    under a normal distribution with mean mu and standard deviation std.\"\"\"\n",
    "    \n",
    "    return -0.5 * torch.log(2*np.pi*std**2) -(0.5 * (1/(std**2))* (x-mu)**2)"
   ]
  },
  {
   "cell_type": "code",
   "execution_count": 4,
   "metadata": {},
   "outputs": [],
   "source": [
    "class KL(torch.nn.Module):\n",
    "    def __init__(self):\n",
    "        super(KL, self).__init__()\n",
    "        self.n_latent = 100 # Number of latent samples\n",
    "        self.softplus = torch.nn.Softplus()\n",
    "        \n",
    "        #The parameters we adjust during training.\n",
    "        self.qm = torch.nn.Parameter(torch.randn(1,1).double(), requires_grad=True)\n",
    "        self.qs = torch.nn.Parameter(torch.randn(1,1).double(), requires_grad=True)\n",
    "        \n",
    "        #create holders for prior mean and std, and likelihood std.\n",
    "        self.prior_m = torch.randn(1,1).double()\n",
    "        self.prior_s = torch.randn(1,1).double()\n",
    "        self.likelihood_s = torch.DoubleTensor((1))\n",
    "        \n",
    "        #Set the prior and likelihood moments.\n",
    "        self.prior_s.data.fill_(1.0)\n",
    "        self.prior_m.data.fill_(0.9)\n",
    "        self.likelihood_s.data.fill_(5.5)\n",
    "\n",
    "        \n",
    "    def generate_rand(self):\n",
    "        return np.random.normal(size=(self.n_latent,1))\n",
    "    \n",
    "    def reparam(self, eps):\n",
    "        eps = Variable(torch.DoubleTensor(eps))\n",
    "        return  eps.mul(self.softplus(self.qs)).add(self.qm)\n",
    "    \n",
    "    def compute_bound(self, x, t):\n",
    "        eps = self.generate_rand()\n",
    "        z = self.reparam(eps)\n",
    "        q_likelihood = log_norm(z, self.qm, self.softplus(self.qs))\n",
    "        prior = log_norm(z, self.prior_m, self.prior_s)\n",
    "        likelihood = torch.sum(log_norm(t, x*z.transpose(0,1), self.likelihood_s), 0, keepdim=True).transpose(0,1)\n",
    "        \n",
    "        \n",
    "        r1 = prior + likelihood -q_likelihood\n",
    "        c1 = torch.max(r1)\n",
    "        exp1 = torch.exp((r1-c1))\n",
    "        \n",
    "        KL_div = (torch.log(torch.mean(exp1)) + c1)\n",
    "       \n",
    "        return KL_div"
   ]
  },
  {
   "cell_type": "code",
   "execution_count": 5,
   "metadata": {},
   "outputs": [],
   "source": [
    "class Renyi(torch.nn.Module):\n",
    "    def __init__(self, alpha):\n",
    "        super(Renyi, self).__init__()\n",
    "        self.n_latent = 100 # Number of latent samples\n",
    "        self.softplus = torch.nn.Softplus()\n",
    "        self.alpha = alpha\n",
    "        \n",
    "        #The parameters we adjust during training.\n",
    "        self.qm = torch.nn.Parameter(torch.randn(1,1).double(), requires_grad=True)\n",
    "        self.qs = torch.nn.Parameter(torch.randn(1,1).double(), requires_grad=True)\n",
    "        \n",
    "        #create holders for prior mean and std, and likelihood std.\n",
    "        self.prior_m = torch.randn(1,1).double()\n",
    "        self.prior_s = torch.randn(1,1).double()\n",
    "        self.likelihood_s = torch.DoubleTensor((1))\n",
    "        \n",
    "        #Set the prior and likelihood moments.\n",
    "        self.prior_s.data.fill_(1.0)\n",
    "        self.prior_m.data.fill_(0.9)\n",
    "        self.likelihood_s.data.fill_(5.5)\n",
    "\n",
    "        \n",
    "    def generate_rand(self):\n",
    "        return np.random.normal(size=(self.n_latent,1))\n",
    "    \n",
    "    def reparam(self, eps):\n",
    "        eps = Variable(torch.DoubleTensor(eps))\n",
    "        return  eps.mul(self.softplus(self.qs)).add(self.qm)\n",
    "    \n",
    "    def compute_bound(self, x, t):\n",
    "        eps = self.generate_rand()\n",
    "        z = self.reparam(eps)\n",
    "        q_likelihood = log_norm(z, self.qm, self.softplus(self.qs))\n",
    "        prior = log_norm(z, self.prior_m, self.prior_s)\n",
    "        likelihood = torch.sum(log_norm(t, x*z.transpose(0,1), self.likelihood_s), 0, keepdim=True).transpose(0,1)\n",
    "        \n",
    "        r1 = (1-self.alpha)*(prior + likelihood -q_likelihood)\n",
    "        c1 = torch.max(r1)\n",
    "        exp1 = torch.exp((r1-c1))\n",
    "\n",
    "        renyi_div = (torch.log(torch.mean(exp1))+c1)/(1-self.alpha)\n",
    "        return renyi_div"
   ]
  },
  {
   "cell_type": "code",
   "execution_count": 6,
   "metadata": {},
   "outputs": [],
   "source": [
    "class AB(torch.nn.Module):\n",
    "    def __init__(self, alpha, beta):\n",
    "        super(AB, self).__init__()\n",
    "        self.n_latent = 100 # Number of latent samples\n",
    "        self.softplus = torch.nn.Softplus()\n",
    "        self.alpha = alpha\n",
    "        self.beta = beta\n",
    "        \n",
    "        #The parameters we adjust during training.\n",
    "        self.qm = torch.nn.Parameter(torch.randn(1,1).double(), requires_grad=True)\n",
    "        self.qs = torch.nn.Parameter(torch.randn(1,1).double(), requires_grad=True)\n",
    "        \n",
    "        #create holders for prior mean and std, and likelihood std.\n",
    "        self.prior_m = torch.randn(1,1).double()\n",
    "        self.prior_s = torch.randn(1,1).double()\n",
    "        self.likelihood_s = torch.DoubleTensor((1))\n",
    "        \n",
    "        #Set the prior and likelihood moments.\n",
    "        self.prior_s.data.fill_(1.0)\n",
    "        self.prior_m.data.fill_(0.9)\n",
    "        self.likelihood_s.data.fill_(5.5)\n",
    "\n",
    "        \n",
    "    def generate_rand(self):\n",
    "        return np.random.normal(size=(self.n_latent,1))\n",
    "    \n",
    "    def reparam(self, eps):\n",
    "        eps = Variable(torch.DoubleTensor(eps))\n",
    "        return  eps.mul(self.softplus(self.qs)).add(self.qm)\n",
    "    \n",
    "    def compute_bound(self, x, t):\n",
    "        eps = self.generate_rand()\n",
    "        z = self.reparam(eps)\n",
    "        q_likelihood = log_norm(z, self.qm, self.softplus(self.qs))\n",
    "        prior = log_norm(z, self.prior_m, self.prior_s)\n",
    "        likelihood = torch.sum(log_norm(t, x*z.transpose(0,1), self.likelihood_s), 0, keepdim=True).transpose(0,1)\n",
    "        \n",
    "        \n",
    "        r1 = (self.alpha + self.beta)*(prior + likelihood) - q_likelihood\n",
    "        c1 = torch.max(r1)\n",
    "        exp1 = torch.exp((r1-c1))\n",
    "        \n",
    "        r2 = (self.alpha + self.beta -1)* q_likelihood\n",
    "        c2 = torch.max(r2)\n",
    "        exp2 = torch.exp((r2-c2))\n",
    "        \n",
    "        r3 = self.beta * (prior + likelihood) - (1- self.alpha) * q_likelihood\n",
    "        c3 = torch.max(r3)\n",
    "        exp3 = torch.exp((r3-c3))\n",
    "\n",
    "        loss1 = (torch.log(torch.mean(exp1)) + c1) / ((self.beta + self.alpha) * self.alpha ) \n",
    "        loss2 = (torch.log(torch.mean(exp2)) + c2) / ((self.beta + self.alpha) * self.beta  ) \n",
    "        loss3 = (torch.log(torch.mean(exp3)) + c3) / (self.beta * self.alpha ) \n",
    "       \n",
    "        return loss1 + loss2 + loss3\n",
    "    \n",
    "    "
   ]
  },
  {
   "cell_type": "code",
   "execution_count": 25,
   "metadata": {},
   "outputs": [
    {
     "name": "stdout",
     "output_type": "stream",
     "text": [
      "[[-1.91931296]] [[1.0857039]]\n",
      "[[-0.8307887]] [[1.91108024]]\n",
      "[[-0.523716]] [[1.24861403]]\n",
      "[[-0.58163616]] [[0.45033719]]\n",
      "[[0.27292745]] [[0.2537802]]\n",
      "[[0.06132607]] [[0.07045727]]\n",
      "[[-0.02649598]] [[0.02505082]]\n",
      "[[0.13204943]] [[0.04144438]]\n",
      "[[0.02152526]] [[0.05009009]]\n"
     ]
    }
   ],
   "source": [
    "c = KL()\n",
    "\n",
    "optimizer = torch.optim.Adam(c.parameters(),lr=0.01)\n",
    "x = torch.tensor(X)\n",
    "t = torch.tensor(T)\n",
    "\n",
    "for i in range(20001):\n",
    "    loss = -c.compute_bound(x, t)\n",
    "    optimizer.zero_grad()\n",
    "    loss.backward()\n",
    "    optimizer.step()\n",
    "    if i % 2500 ==0:\n",
    "        print(c.qm.data.numpy(), (c.softplus(c.qs).data**2).numpy())"
   ]
  },
  {
   "cell_type": "code",
   "execution_count": 26,
   "metadata": {},
   "outputs": [
    {
     "data": {
      "image/png": "[encoded data removed]",
      "text/plain": [
       "<Figure size 432x288 with 1 Axes>"
      ]
     },
     "metadata": {},
     "output_type": "display_data"
    }
   ],
   "source": [
    "T1 =  c.qm.data.numpy() * X\n",
    "plt.scatter(X,T)\n",
    "plt.scatter(X,T1)\n",
    "plt.savefig('outlier_kl.eps')"
   ]
  },
  {
   "cell_type": "code",
   "execution_count": 27,
   "metadata": {},
   "outputs": [
    {
     "name": "stdout",
     "output_type": "stream",
     "text": [
      "[[0.24427887]] [[1.13824438]]\n",
      "[[0.09777907]] [[0.02896261]]\n",
      "[[0.13572139]] [[0.02946029]]\n",
      "[[0.12819061]] [[0.03581896]]\n",
      "[[0.1000358]] [[0.03128016]]\n",
      "[[0.12311669]] [[0.02856928]]\n",
      "[[0.09510443]] [[0.03168004]]\n",
      "[[0.12090806]] [[0.03164128]]\n",
      "[[0.15174472]] [[0.02871138]]\n"
     ]
    }
   ],
   "source": [
    "c = Renyi(alpha=0.2)\n",
    "\n",
    "optimizer = torch.optim.Adam(c.parameters(),lr=0.01)\n",
    "x = torch.tensor(X)\n",
    "t = torch.tensor(T)\n",
    "\n",
    "for i in range(20001):\n",
    "    loss = -c.compute_bound(x, t)\n",
    "    optimizer.zero_grad()\n",
    "    loss.backward()\n",
    "    optimizer.step()\n",
    "    if i % 2500 ==0:\n",
    "        print(c.qm.data.numpy(), (c.softplus(c.qs).data**2).numpy())"
   ]
  },
  {
   "cell_type": "code",
   "execution_count": 28,
   "metadata": {},
   "outputs": [
    {
     "data": {
      "image/png": "[encoded data removed]",
      "text/plain": [
       "<Figure size 432x288 with 1 Axes>"
      ]
     },
     "metadata": {},
     "output_type": "display_data"
    }
   ],
   "source": [
    "T1 = c.qm.data.numpy() * X\n",
    "plt.scatter(X,T)\n",
    "plt.scatter(X,T1)\n",
    "plt.savefig('outlier_ren.eps')"
   ]
  },
  {
   "cell_type": "code",
   "execution_count": 17,
   "metadata": {
    "scrolled": true
   },
   "outputs": [
    {
     "name": "stdout",
     "output_type": "stream",
     "text": [
      "[[1.6063255]] [[0.26877635]]\n",
      "[[0.11022395]] [[0.15779933]]\n",
      "[[0.10764497]] [[0.15941917]]\n",
      "[[0.09363312]] [[0.15955148]]\n",
      "[[0.1160662]] [[0.16547776]]\n",
      "[[0.09108855]] [[0.1622209]]\n",
      "[[0.10258131]] [[0.15328641]]\n",
      "[[0.10413237]] [[0.1554254]]\n",
      "[[0.10063124]] [[0.16106185]]\n"
     ]
    }
   ],
   "source": [
    "c = AB(alpha = 2, beta = -0.25)\n",
    "# alpha = 1, beta = 1\n",
    "# alpha = 0.25, beta = 0.75\n",
    "\n",
    "optimizer = torch.optim.Adam(c.parameters(),lr=0.01)\n",
    "x = torch.tensor(X)\n",
    "t = torch.tensor(T)\n",
    "\n",
    "for i in range(20001):\n",
    "    loss = -c.compute_bound(x, t)\n",
    "    optimizer.zero_grad()\n",
    "    loss.backward()\n",
    "    optimizer.step()\n",
    "    if i % 2500 ==0:\n",
    "        print(c.qm.data.numpy(), (c.softplus(c.qs).data**2).numpy())"
   ]
  },
  {
   "cell_type": "code",
   "execution_count": 18,
   "metadata": {
    "scrolled": true
   },
   "outputs": [
    {
     "data": {
      "image/png": "[encoded data removed]",
      "text/plain": [
       "<Figure size 432x288 with 1 Axes>"
      ]
     },
     "metadata": {},
     "output_type": "display_data"
    }
   ],
   "source": [
    "T1 = c.qm.data.numpy() * X\n",
    "plt.scatter(X,T)\n",
    "plt.scatter(X,T1)\n",
    "plt.savefig('outlier_ab.eps')"
   ]
  }
 ],
 "metadata": {
  "kernelspec": {
   "display_name": "Python 3",
   "language": "python",
   "name": "python3"
  },
  "language_info": {
   "codemirror_mode": {
    "name": "ipython",
    "version": 3
   },
   "file_extension": ".py",
   "mimetype": "text/x-python",
   "name": "python",
   "nbconvert_exporter": "python",
   "pygments_lexer": "ipython3",
   "version": "3.7.4"
  }
 },
 "nbformat": 4,
 "nbformat_minor": 4
}

{
 "cells": [
  {
   "cell_type": "code",
   "execution_count": 1,
   "metadata": {
    "id": "_8pZghrtkVLp"
   },
   "outputs": [],
   "source": [
    "import numpy as np\n",
    "import torch\n",
    "from torch import nn\n",
    "from sklearn import datasets\n",
    "import matplotlib.pyplot as plt\n",
    "from torch.autograd import Variable\n",
    "\n",
    "w0 = 0.125\n",
    "b0 = 5.\n",
    "x_range = [-20, 60]\n",
    "\n",
    "def load_dataset(n=150, n_tst=150):\n",
    "    np.random.seed(43)\n",
    "\n",
    "    def s(x):\n",
    "        g = (x - x_range[0]) / (x_range[1] - x_range[0])\n",
    "        return 3 * (0.25 + g**2.)\n",
    "\n",
    "    x = (x_range[1] - x_range[0]) * np.random.rand(n) + x_range[0]\n",
    "    eps = np.random.randn(n) * s(x)\n",
    "    y = (w0 * x * (1. + np.sin(x)) + b0) + eps\n",
    "    y = (y - y.mean()) / y.std()\n",
    "    idx = np.argsort(x)\n",
    "    x = x[idx]\n",
    "    y = y[idx]\n",
    "    return y[:, None], x[:, None]\n",
    "\n",
    "y, x = load_dataset()"
   ]
  },
  {
   "cell_type": "code",
   "execution_count": 2,
   "metadata": {
    "id": "QJ_M65ar_UAj"
   },
   "outputs": [],
   "source": [
    "import seaborn as sns"
   ]
  },
  {
   "cell_type": "code",
   "execution_count": 3,
   "metadata": {
    "colab": {
     "base_uri": "https://localhost:8080/",
     "height": 391
    },
    "id": "9BAdx7silVX8",
    "outputId": "59242b8d-2a30-4129-e14c-2dd19001dc24"
   },
   "outputs": [
    {
     "data": {
      "text/plain": [
       "<matplotlib.collections.PathCollection at 0x7f8d778334d0>"
      ]
     },
     "execution_count": 3,
     "metadata": {},
     "output_type": "execute_result"
    },
    {
     "data": {
      "image/png": "[encoded data removed]",
      "text/plain": [
       "<Figure size 720x432 with 1 Axes>"
      ]
     },
     "metadata": {
      "needs_background": "light"
     },
     "output_type": "display_data"
    }
   ],
   "source": [
    "fig = plt.figure(figsize=[10,6])\n",
    "plt.scatter(x, y)"
   ]
  },
  {
   "cell_type": "code",
   "execution_count": 4,
   "metadata": {
    "id": "WYE0wSdokdgJ"
   },
   "outputs": [],
   "source": [
    "# Go to pytorch world\n",
    "X = torch.tensor(x, dtype=torch.float)\n",
    "Y = torch.tensor(y, dtype=torch.float)\n",
    "\n",
    "class MaximumLikelihood(nn.Module):\n",
    "    def __init__(self):\n",
    "        super().__init__()\n",
    "        self.out = nn.Sequential(\n",
    "            nn.Linear(1, 20),\n",
    "            nn.ReLU(),\n",
    "            nn.Linear(20, 1)\n",
    "        )\n",
    "    def forward(self, x):\n",
    "        return self.out(x)\n",
    "    \n",
    "epochs = 200\n",
    "m = MaximumLikelihood()\n",
    "optim = torch.optim.Adam(m.parameters(), lr=0.01)\n",
    "\n",
    "for epoch in range(epochs):\n",
    "    optim.zero_grad()\n",
    "    y_pred = m(X)\n",
    "    loss = (0.5 * (y_pred - Y)**2).mean()\n",
    "    loss.backward()\n",
    "    optim.step()"
   ]
  },
  {
   "cell_type": "code",
   "execution_count": 5,
   "metadata": {
    "colab": {
     "base_uri": "https://localhost:8080/",
     "height": 391
    },
    "id": "p4sCIMlNliyU",
    "outputId": "0b2f87bb-ef39-4f68-a408-238e98e9fc6c"
   },
   "outputs": [
    {
     "data": {
      "text/plain": [
       "[<matplotlib.lines.Line2D at 0x7f8d777cda90>]"
      ]
     },
     "execution_count": 5,
     "metadata": {},
     "output_type": "execute_result"
    },
    {
     "data": {
      "image/png": "[encoded data removed]",
      "text/plain": [
       "<Figure size 720x432 with 1 Axes>"
      ]
     },
     "metadata": {
      "needs_background": "light"
     },
     "output_type": "display_data"
    }
   ],
   "source": [
    "fig = plt.figure(figsize=[10,6])\n",
    "plt.scatter(x, y)\n",
    "plt.plot(x, y_pred.detach().numpy(), 'k-', color = 'r')\n",
    "#plt.add_line(y_pred.detach().numpy())\n"
   ]
  },
  {
   "cell_type": "code",
   "execution_count": 6,
   "metadata": {
    "id": "Gin8012jxwQF"
   },
   "outputs": [],
   "source": [
    "class VI(nn.Module):\n",
    "    def __init__(self, input=1, hidden=10):\n",
    "        super().__init__()\n",
    "\n",
    "        self.q_mu = nn.Sequential(\n",
    "            nn.Linear(input, hidden*2),\n",
    "            nn.ReLU(),\n",
    "            nn.Linear(hidden*2, hidden),\n",
    "            nn.ReLU(),\n",
    "            nn.Linear(hidden, 1)\n",
    "        )\n",
    "        self.q_log_var = nn.Sequential(\n",
    "            nn.Linear(input, hidden*2),\n",
    "            nn.ReLU(),\n",
    "            nn.Linear(hidden*2, hidden),\n",
    "            nn.ReLU(),\n",
    "            nn.Linear(hidden, 1)\n",
    "        )\n",
    "\n",
    "    def reparameterize(self, mu, log_var):\n",
    "        # std can not be negative, thats why we use log variance\n",
    "        sigma = torch.exp(0.5 * log_var) + 1e-5\n",
    "        eps = torch.randn_like(sigma)\n",
    "        return mu + sigma * eps\n",
    "\n",
    "    def forward(self, x):\n",
    "        mu = self.q_mu(x)\n",
    "        log_var = self.q_log_var(x)\n",
    "        return self.reparameterize(mu, log_var), mu, log_var"
   ]
  },
  {
   "cell_type": "code",
   "execution_count": 7,
   "metadata": {
    "id": "ctPI5Y-l35jT"
   },
   "outputs": [],
   "source": [
    "def ll_gaussian(y, mu, log_var):\n",
    "    sigma = torch.exp(0.5 * log_var)\n",
    "    return -0.5 * torch.log(2 * np.pi * sigma**2) - (1 / (2 * sigma**2))* (y-mu)**2"
   ]
  },
  {
   "cell_type": "code",
   "execution_count": 8,
   "metadata": {
    "id": "_vPrx1Bl39pe"
   },
   "outputs": [],
   "source": [
    "def elbo(y_pred, y, mu, log_var):\n",
    "    # likelihood of observing y given Variational mu and sigma\n",
    "    likelihood = ll_gaussian(y, mu, log_var)\n",
    "    \n",
    "    # prior probability of y_pred\n",
    "    log_prior = ll_gaussian(y_pred, 0, torch.log(torch.tensor(1.)))\n",
    "    \n",
    "    # variational probability of y_pred\n",
    "    log_p_q = ll_gaussian(y_pred, mu, log_var)\n",
    "    \n",
    "    # by taking the mean we approximate the expectation\n",
    "    return (likelihood + log_prior - log_p_q).mean()\n",
    "\n",
    "def det_loss(y_pred, y, mu, log_var):\n",
    "    return -elbo(y_pred, y, mu, log_var)"
   ]
  },
  {
   "cell_type": "code",
   "execution_count": null,
   "metadata": {
    "id": "GUxFWKE8BPD2"
   },
   "outputs": [],
   "source": []
  },
  {
   "cell_type": "code",
   "execution_count": 9,
   "metadata": {
    "id": "UgkXdmQPBWSC"
   },
   "outputs": [],
   "source": [
    "def log_norm(x, mu, std):\n",
    "    \"\"\"Compute the log pdf of x,\n",
    "    under a normal distribution with mean mu and standard deviation std.\"\"\"\n",
    "    \n",
    "    return -0.5 * torch.log(2*np.pi*std**2) -(0.5 * (1/(std**2))* (x-mu)**2)"
   ]
  },
  {
   "cell_type": "code",
   "execution_count": 130,
   "metadata": {
    "id": "K76kjiGrBPP0"
   },
   "outputs": [],
   "source": [
    "class AB(torch.nn.Module):\n",
    "    def __init__(self, alpha, beta, latent_dim=100):\n",
    "        super(AB, self).__init__()\n",
    "        self.n_latent = latent_dim # Number of latent samples\n",
    "        self.softplus = torch.nn.Softplus()\n",
    "        self.alpha = alpha\n",
    "        self.beta = beta\n",
    "        \n",
    "        #The parameters we adjust during training.\n",
    "        self.qm = torch.nn.Parameter(torch.randn(1,1).double(), requires_grad=True)\n",
    "        self.qs = torch.nn.Parameter(torch.randn(1,1).double(), requires_grad=True)\n",
    "        \n",
    "        #create holders for prior mean and std, and likelihood std.\n",
    "        self.prior_m = torch.randn(1,1).double()\n",
    "        self.prior_s = torch.randn(1,1).double()\n",
    "        self.likelihood_s = torch.DoubleTensor((1))\n",
    "        \n",
    "        #Set the prior and likelihood moments.\n",
    "        self.prior_s.data.fill_(1.0)\n",
    "        self.prior_m.data.fill_(0.9)\n",
    "        self.likelihood_s.data.fill_(5.5)\n",
    "\n",
    "        \n",
    "    def generate_rand(self):\n",
    "        return np.random.normal(size=(self.n_latent,1))\n",
    "    \n",
    "    def reparam(self, eps):\n",
    "        eps = Variable(torch.DoubleTensor(eps))\n",
    "        return  eps.mul(self.softplus(self.qs)).add(self.qm)\n",
    "    \n",
    "    def compute_bound(self, x, t):\n",
    "        eps = self.generate_rand()\n",
    "        z = self.reparam(eps)\n",
    "        q_likelihood = log_norm(z, self.qm, self.softplus(self.qs))\n",
    "        prior = log_norm(z, self.prior_m, self.prior_s)\n",
    "        likelihood = torch.sum(log_norm(t, x*z.transpose(0,1), self.likelihood_s), 0, keepdim=True).transpose(0,1)\n",
    "        \n",
    "        \n",
    "        r1 = (self.alpha + self.beta)*(prior + likelihood) - q_likelihood\n",
    "        c1 = torch.max(r1)\n",
    "        exp1 = torch.exp((r1-c1))\n",
    "        \n",
    "        r2 = (self.alpha + self.beta -1)* q_likelihood\n",
    "        c2 = torch.max(r2)\n",
    "        exp2 = torch.exp((r2-c2))\n",
    "        \n",
    "        r3 = self.beta * (prior + likelihood) - (1- self.alpha) * q_likelihood\n",
    "        c3 = torch.max(r3)\n",
    "        exp3 = torch.exp((r3-c3))\n",
    "\n",
    "        loss1 = (torch.log(torch.mean(exp1)) + c1) / ((self.beta + self.alpha) * self.alpha ) \n",
    "        loss2 = (torch.log(torch.mean(exp2)) + c2) / ((self.beta + self.alpha) * self.beta  ) \n",
    "        loss3 = (torch.log(torch.mean(exp3)) + c3) / (self.beta * self.alpha ) \n",
    "       \n",
    "        return loss1 + loss2 + loss3\n",
    "    "
   ]
  },
  {
   "cell_type": "code",
   "execution_count": 53,
   "metadata": {
    "id": "1HxVh-6R4D7q"
   },
   "outputs": [
    {
     "name": "stdout",
     "output_type": "stream",
     "text": [
      "10.271046\n",
      "1.1806679\n",
      "1.1931173\n",
      "1.1733681\n",
      "1.2120379\n",
      "1.1487633\n",
      "1.1492751\n"
     ]
    }
   ],
   "source": [
    "epochs = 3500\n",
    "\n",
    "m = VI()\n",
    "optim = torch.optim.Adam(m.parameters(), lr=0.005)\n",
    "\n",
    "for epoch in range(epochs):\n",
    "    optim.zero_grad()\n",
    "    y_pred, mu, log_var = m(X)\n",
    "    loss = det_loss(y_pred, Y, mu, log_var)\n",
    "    loss.backward()\n",
    "    optim.step()\n",
    "\n",
    "    if epoch%500==0:\n",
    "        print(loss.detach().numpy())"
   ]
  },
  {
   "cell_type": "code",
   "execution_count": 54,
   "metadata": {
    "colab": {
     "base_uri": "https://localhost:8080/",
     "height": 391
    },
    "id": "GhczvTfz4IUJ",
    "outputId": "90a2bec1-b990-4533-ea6f-0f89bfb7ef8a"
   },
   "outputs": [
    {
     "data": {
      "text/plain": [
       "<matplotlib.collections.PolyCollection at 0x7f8d5c968c10>"
      ]
     },
     "execution_count": 54,
     "metadata": {},
     "output_type": "execute_result"
    },
    {
     "data": {
      "image/png": "[encoded data removed]",
      "text/plain": [
       "<Figure size 1152x432 with 1 Axes>"
      ]
     },
     "metadata": {
      "needs_background": "light"
     },
     "output_type": "display_data"
    }
   ],
   "source": [
    "# draw samples from Q(theta)\n",
    "with torch.no_grad():\n",
    "    y_pred = torch.cat([m(X)[0] for _ in range(1000)], dim=1)\n",
    "    \n",
    "# Get some quantiles\n",
    "q1, mu, q2 = np.quantile(y_pred, [0.05, 0.5, 0.95], axis=1)\n",
    "\n",
    "fig = plt.figure(figsize=(16, 6))\n",
    "plt.scatter(X, Y)\n",
    "plt.plot(X, mu)\n",
    "plt.fill_between(X.flatten(), q1, q2, alpha=0.2)\n"
   ]
  },
  {
   "cell_type": "code",
   "execution_count": 14,
   "metadata": {
    "id": "L36Fub8gxwFM"
   },
   "outputs": [],
   "source": [
    "# Training using AB divergencee"
   ]
  },
  {
   "cell_type": "code",
   "execution_count": 15,
   "metadata": {
    "id": "Z6yLDBH-5plF"
   },
   "outputs": [],
   "source": [
    "# epochs = 2500\n",
    "\n",
    "# alphas = [-1, -0.5, -0.25, 0, 0.5, 1.0, 1.25, 1.5, 1.7, 2.]\n",
    "# betas = [-1, -0.5, -0.25, 0, 0.5, 1.0, 1.25, 1.5, 1.7, 2.]\n",
    "\n",
    "# losses = {}\n",
    "\n",
    "# for al in alphas:\n",
    "#     for be in betas:\n",
    "\n",
    "#         m = VI()\n",
    "#         optim = torch.optim.Adam(m.parameters(), lr=0.001)\n",
    "#         c = AB(alpha = al, beta = be)\n",
    "\n",
    "#         for epoch in range(epochs):\n",
    "#             optim.zero_grad()\n",
    "#             y_pred, mu, log_var = m(X)\n",
    "#             loss = -c.compute_bound(X, Y)\n",
    "#             loss.backward()\n",
    "#             optim.step()\n",
    "\n",
    "#             if epoch%500==0:\n",
    "#                 print(loss.detach().numpy())\n",
    "#         losses[(al,be)] = loss"
   ]
  },
  {
   "cell_type": "code",
   "execution_count": 78,
   "metadata": {
    "colab": {
     "base_uri": "https://localhost:8080/",
     "height": 119
    },
    "id": "5C--mVgSzehC",
    "outputId": "16dbb511-53a3-4212-8527-be492c7488e6"
   },
   "outputs": [
    {
     "name": "stdout",
     "output_type": "stream",
     "text": [
      "[[-0.37788156]] [[1.18377484]]\n",
      "[[-0.37788156]] [[1.18377484]]\n",
      "[[-0.37788156]] [[1.18377484]]\n",
      "[[-0.37788156]] [[1.18377484]]\n",
      "[[-0.37788156]] [[1.18377484]]\n",
      "[[-0.37788156]] [[1.18377484]]\n",
      "[[-0.37788156]] [[1.18377484]]\n",
      "[[-0.37788156]] [[1.18377484]]\n"
     ]
    }
   ],
   "source": [
    "epochs = 4000\n",
    "m = VI()\n",
    "optim = torch.optim.Adam(m.parameters(), lr=0.005)\n",
    "c = AB(alpha = 1.25, beta = -0.3)\n",
    "\n",
    "for epoch in range(epochs):\n",
    "    optim.zero_grad()\n",
    "    y_pred, mu, log_var = m(X)\n",
    "    loss = -c.compute_bound(X, Y)\n",
    "    loss.backward()\n",
    "    optim.step()\n",
    "\n",
    "    if epoch%500==0:\n",
    "        #print(loss.detach().numpy())\n",
    "        print(c.qm.data.numpy(), (c.softplus(c.qs).data**2).numpy())"
   ]
  },
  {
   "cell_type": "code",
   "execution_count": 79,
   "metadata": {
    "colab": {
     "base_uri": "https://localhost:8080/",
     "height": 391
    },
    "id": "Zz7NJ6yV6KCH",
    "outputId": "cc9b3856-93dc-423c-dbbe-c0784d2f3c6b"
   },
   "outputs": [
    {
     "data": {
      "image/png": "[encoded data removed]",
      "text/plain": [
       "<Figure size 1152x432 with 1 Axes>"
      ]
     },
     "metadata": {
      "needs_background": "light"
     },
     "output_type": "display_data"
    }
   ],
   "source": [
    "# draw samples from Q(theta)\n",
    "with torch.no_grad():\n",
    "    y_pred = torch.cat([m(X)[0] for _ in range(1000)], dim=1)\n",
    "    \n",
    "# Get some quantiles\n",
    "q1, mu, q2 = np.quantile(y_pred, [0.05, 0.5, 0.95], axis=1)\n",
    "\n",
    "fig = plt.figure(figsize=(16, 6))\n",
    "plt.scatter(X, Y)\n",
    "plt.plot(X, mu)\n",
    "plt.fill_between(X.flatten(), q1, q2, alpha=0.2)\n",
    "plt.show()"
   ]
  },
  {
   "cell_type": "code",
   "execution_count": null,
   "metadata": {
    "id": "KDZnt8vE6LDb"
   },
   "outputs": [],
   "source": []
  },
  {
   "cell_type": "code",
   "execution_count": 141,
   "metadata": {
    "id": "5BhfZD4uEgUy"
   },
   "outputs": [],
   "source": [
    "class KL(torch.nn.Module):\n",
    "    def __init__(self, latent_dim=100):\n",
    "        super(KL, self).__init__()\n",
    "        self.n_latent = latent_dim # Number of latent samples\n",
    "        self.softplus = torch.nn.Softplus()\n",
    "        \n",
    "        #The parameters we adjust during training.\n",
    "        self.qm = torch.nn.Parameter(torch.randn(1,1).double(), requires_grad=True)\n",
    "        self.qs = torch.nn.Parameter(torch.randn(1,1).double(), requires_grad=True)\n",
    "        \n",
    "        #create holders for prior mean and std, and likelihood std.\n",
    "        self.prior_m = torch.randn(1,1).double()\n",
    "        self.prior_s = torch.randn(1,1).double()\n",
    "        self.likelihood_s = torch.DoubleTensor((1))\n",
    "        \n",
    "        #Set the prior and likelihood moments.\n",
    "        self.prior_s.data.fill_(1.0)\n",
    "        self.prior_m.data.fill_(0.9)\n",
    "        self.likelihood_s.data.fill_(5.5)\n",
    "\n",
    "        \n",
    "    def generate_rand(self):\n",
    "        return np.random.normal(size=(self.n_latent,1))\n",
    "    \n",
    "    def reparam(self, eps):\n",
    "        eps = Variable(torch.DoubleTensor(eps))\n",
    "        return  eps.mul(self.softplus(self.qs)).add(self.qm)\n",
    "    \n",
    "    def compute_bound(self, x, t):\n",
    "        eps = self.generate_rand()\n",
    "        z = self.reparam(eps)\n",
    "        q_likelihood = log_norm(z, self.qm, self.softplus(self.qs))\n",
    "        prior = log_norm(z, self.prior_m, self.prior_s)\n",
    "        likelihood = torch.sum(log_norm(t, x*z.transpose(0,1), self.likelihood_s), 0, keepdim=True).transpose(0,1)\n",
    "        \n",
    "        \n",
    "        r1 = prior + likelihood -q_likelihood\n",
    "        c1 = torch.max(r1)\n",
    "        exp1 = torch.exp((r1-c1))\n",
    "        \n",
    "        KL_div = (torch.log(torch.mean(exp1)) + c1)\n",
    "       \n",
    "        return KL_div"
   ]
  },
  {
   "cell_type": "code",
   "execution_count": 140,
   "metadata": {
    "id": "mSVftFcAElFZ"
   },
   "outputs": [],
   "source": [
    "class Renyi(torch.nn.Module):\n",
    "    def __init__(self, alpha, latent_dim=100):\n",
    "        super(Renyi, self).__init__()\n",
    "        self.n_latent = latent_dim # Number of latent samples\n",
    "        self.softplus = torch.nn.Softplus()\n",
    "        self.alpha = alpha\n",
    "        \n",
    "        #The parameters we adjust during training.\n",
    "        self.qm = torch.nn.Parameter(torch.randn(1,1).double(), requires_grad=True)\n",
    "        self.qs = torch.nn.Parameter(torch.randn(1,1).double(), requires_grad=True)\n",
    "        \n",
    "        #create holders for prior mean and std, and likelihood std.\n",
    "        self.prior_m = torch.randn(1,1).double()\n",
    "        self.prior_s = torch.randn(1,1).double()\n",
    "        self.likelihood_s = torch.DoubleTensor((1))\n",
    "        \n",
    "        #Set the prior and likelihood moments.\n",
    "        self.prior_s.data.fill_(1.0)\n",
    "        self.prior_m.data.fill_(0.9)\n",
    "        self.likelihood_s.data.fill_(5.5)\n",
    "\n",
    "        \n",
    "    def generate_rand(self):\n",
    "        return np.random.normal(size=(self.n_latent,1))\n",
    "    \n",
    "    def reparam(self, eps):\n",
    "        eps = Variable(torch.DoubleTensor(eps))\n",
    "        return  eps.mul(self.softplus(self.qs)).add(self.qm)\n",
    "    \n",
    "    def compute_bound(self, x, t):\n",
    "        eps = self.generate_rand()\n",
    "        z = self.reparam(eps)\n",
    "        q_likelihood = log_norm(z, self.qm, self.softplus(self.qs))\n",
    "        prior = log_norm(z, self.prior_m, self.prior_s)\n",
    "        likelihood = torch.sum(log_norm(t, x*z.transpose(0,1), self.likelihood_s), 0, keepdim=True).transpose(0,1)\n",
    "        \n",
    "        r1 = (1-self.alpha)*(prior + likelihood -q_likelihood)\n",
    "        c1 = torch.max(r1)\n",
    "        exp1 = torch.exp((r1-c1))\n",
    "\n",
    "        renyi_div = (torch.log(torch.mean(exp1))+c1)/(1-self.alpha)\n",
    "        return renyi_div"
   ]
  },
  {
   "cell_type": "code",
   "execution_count": 83,
   "metadata": {
    "colab": {
     "base_uri": "https://localhost:8080/",
     "height": 119
    },
    "id": "sb6KPR7ZE1KJ",
    "outputId": "8d95bb88-d248-448c-ba2d-d12ce3395dc7"
   },
   "outputs": [
    {
     "name": "stdout",
     "output_type": "stream",
     "text": [
      "[[-0.17137492]] [[2.75255342]]\n",
      "[[-0.17137492]] [[2.75255342]]\n",
      "[[-0.17137492]] [[2.75255342]]\n",
      "[[-0.17137492]] [[2.75255342]]\n",
      "[[-0.17137492]] [[2.75255342]]\n",
      "[[-0.17137492]] [[2.75255342]]\n"
     ]
    }
   ],
   "source": [
    "epochs = 3000\n",
    "m = VI()\n",
    "optim = torch.optim.Adam(m.parameters(), lr=0.005)\n",
    "c = KL()\n",
    "\n",
    "for epoch in range(epochs):\n",
    "    optim.zero_grad()\n",
    "    y_pred, mu, log_var = m(X)\n",
    "    loss = -c.compute_bound(X, Y)\n",
    "    loss.backward()\n",
    "    optim.step()\n",
    "\n",
    "    if epoch%500==0:\n",
    "        #print(loss.detach().numpy())\n",
    "        print(c.qm.data.numpy(), (c.softplus(c.qs).data**2).numpy())"
   ]
  },
  {
   "cell_type": "code",
   "execution_count": 84,
   "metadata": {},
   "outputs": [
    {
     "name": "stdout",
     "output_type": "stream",
     "text": [
      "Requirement already satisfied: pyro-ppl in /Users/jaspersw./anaconda3/envs/py37/lib/python3.7/site-packages (1.5.0)\n",
      "Requirement already satisfied: numpy>=1.7 in /Users/jaspersw./anaconda3/envs/py37/lib/python3.7/site-packages (from pyro-ppl) (1.19.0)\n",
      "Requirement already satisfied: torch>=1.6.0 in /Users/jaspersw./anaconda3/envs/py37/lib/python3.7/site-packages (from pyro-ppl) (1.6.0)\n",
      "Requirement already satisfied: opt-einsum>=2.3.2 in /Users/jaspersw./anaconda3/envs/py37/lib/python3.7/site-packages (from pyro-ppl) (3.2.1)\n",
      "Requirement already satisfied: tqdm>=4.36 in /Users/jaspersw./anaconda3/envs/py37/lib/python3.7/site-packages (from pyro-ppl) (4.39.0)\n",
      "Requirement already satisfied: pyro-api>=0.1.1 in /Users/jaspersw./anaconda3/envs/py37/lib/python3.7/site-packages (from pyro-ppl) (0.1.2)\n",
      "Requirement already satisfied: future in /Users/jaspersw./anaconda3/envs/py37/lib/python3.7/site-packages (from torch>=1.6.0->pyro-ppl) (0.18.2)\n"
     ]
    }
   ],
   "source": [
    "!pip install pyro-ppl"
   ]
  },
  {
   "cell_type": "code",
   "execution_count": 91,
   "metadata": {},
   "outputs": [],
   "source": [
    "from pyro.infer.elbo import ELBO\n",
    "from pyro.infer import RenyiELBO"
   ]
  },
  {
   "cell_type": "code",
   "execution_count": null,
   "metadata": {
    "colab": {
     "base_uri": "https://localhost:8080/",
     "height": 119
    },
    "id": "nAgGlauoFRIO",
    "outputId": "db96ecb2-8c4e-479c-f4a8-763084bb87cb"
   },
   "outputs": [],
   "source": [
    "# epochs = 3000\n",
    "# m = VI()\n",
    "# optim = torch.optim.Adam(m.parameters(), lr=0.005)\n",
    "# # c = Renyi(alpha=0.5)\n",
    "# c = RenyiELBO(alpha=0.5)\n",
    "\n",
    "# for epoch in range(epochs):\n",
    "#     optim.zero_grad()\n",
    "#     y_pred, mu, log_var = m(X)\n",
    "#     loss = -c.loss(X.cpu().detach().numpy(), Y.cpu().detach().numpy())\n",
    "#     loss.backward()\n",
    "#     optim.step()\n",
    "\n",
    "#     if epoch%500==0:\n",
    "#         #print(loss.detach().numpy())\n",
    "#         print(c.qm.data.numpy(), (c.softplus(c.qs).data**2).numpy())"
   ]
  },
  {
   "cell_type": "markdown",
   "metadata": {
    "id": "IZV8cNPW4Iwn"
   },
   "source": [
    "## Boston Housing Dataset\n"
   ]
  },
  {
   "cell_type": "code",
   "execution_count": 95,
   "metadata": {
    "id": "eaicszf-4P4Q"
   },
   "outputs": [],
   "source": [
    "from sklearn.datasets import load_boston\n",
    "from sklearn.preprocessing import StandardScaler\n",
    "from sklearn.model_selection import train_test_split\n"
   ]
  },
  {
   "cell_type": "code",
   "execution_count": 96,
   "metadata": {
    "id": "tOur2DYjB52W"
   },
   "outputs": [],
   "source": [
    "x, y = load_boston(return_X_y=True)\n",
    "\n",
    "scaler = StandardScaler()\n",
    "x_ = scaler.fit_transform(x)\n",
    "\n",
    "X_train, X_val, y_train, y_val = train_test_split(x_, y, test_size=0.2)"
   ]
  },
  {
   "cell_type": "code",
   "execution_count": 97,
   "metadata": {
    "colab": {
     "base_uri": "https://localhost:8080/",
     "height": 282
    },
    "id": "W1HKFPzx5eKD",
    "outputId": "fc89903a-5b91-460c-b1be-fb823131c14b"
   },
   "outputs": [
    {
     "data": {
      "text/plain": [
       "<matplotlib.collections.PathCollection at 0x7f8d5e477350>"
      ]
     },
     "execution_count": 97,
     "metadata": {},
     "output_type": "execute_result"
    },
    {
     "data": {
      "image/png": "[encoded data removed]",
      "text/plain": [
       "<Figure size 432x288 with 1 Axes>"
      ]
     },
     "metadata": {
      "needs_background": "light"
     },
     "output_type": "display_data"
    }
   ],
   "source": [
    "plt.scatter(x_[:,5], y)"
   ]
  },
  {
   "cell_type": "code",
   "execution_count": null,
   "metadata": {},
   "outputs": [],
   "source": [
    "X_train = torch.tensor(X_train, dtype=torch.float)\n",
    "Y_train = torch.tensor(y_train, dtype=torch.float)\n",
    "\n",
    "X_val = torch.tensor(X_val, dtype=torch.float)\n",
    "Y_val = torch.tensor(y_val, dtype=torch.float)"
   ]
  },
  {
   "cell_type": "markdown",
   "metadata": {},
   "source": [
    "### ELBO method"
   ]
  },
  {
   "cell_type": "code",
   "execution_count": 139,
   "metadata": {
    "colab": {
     "base_uri": "https://localhost:8080/",
     "height": 275
    },
    "id": "hLfTg4bu4SkQ",
    "outputId": "0d29351d-bb68-482c-fe24-cc6bd1ed00be"
   },
   "outputs": [
    {
     "name": "stderr",
     "output_type": "stream",
     "text": [
      "/Users/jaspersw./anaconda3/envs/py37/lib/python3.7/site-packages/torch/nn/modules/loss.py:445: UserWarning: Using a target size (torch.Size([404])) that is different to the input size (torch.Size([404, 1])). This will likely lead to incorrect results due to broadcasting. Please ensure they have the same size.\n",
      "  return F.mse_loss(input, target, reduction=self.reduction)\n"
     ]
    },
    {
     "name": "stdout",
     "output_type": "stream",
     "text": [
      "Loss at epoch 0: 606.671875\n",
      "Loss at epoch 500: 80.5296630859375\n",
      "Loss at epoch 1000: 80.22087860107422\n",
      "Loss at epoch 1500: 80.1650161743164\n",
      "Loss at epoch 2000: 80.13751220703125\n",
      "Loss at epoch 2500: 80.1253662109375\n",
      "Loss at epoch 3000: 80.12079620361328\n",
      "Loss at epoch 3500: 80.11871337890625\n",
      "Loss at epoch 4000: 80.11760711669922\n",
      "Loss at epoch 4500: 80.1173095703125\n"
     ]
    }
   ],
   "source": [
    "# ELBO \n",
    "epochs = 5000\n",
    "m = VI(13, 10)\n",
    "optim = torch.optim.Adam(m.parameters(), lr=0.01)\n",
    "criterion = torch.nn.MSELoss()\n",
    "\n",
    "for epoch in range(epochs):\n",
    "    optim.zero_grad()\n",
    "    y_pred, mu, log_var = m(X_train)\n",
    "    #loss = det_loss(y_pred, Y_train, mu, log_var)\n",
    "    loss = criterion(y_pred, Y_train)\n",
    "    loss.backward()\n",
    "    optim.step()\n",
    "\n",
    "    if epoch%500==0:\n",
    "        print('Loss at epoch {}: {}'.format(epoch, loss))"
   ]
  },
  {
   "cell_type": "markdown",
   "metadata": {},
   "source": [
    "### KL DIvergence method"
   ]
  },
  {
   "cell_type": "code",
   "execution_count": 126,
   "metadata": {},
   "outputs": [
    {
     "name": "stdout",
     "output_type": "stream",
     "text": [
      "[[-0.82617331]] [[0.34423298]]\n",
      "[[-0.82617331]] [[0.34423298]]\n",
      "[[-0.82617331]] [[0.34423298]]\n",
      "[[-0.82617331]] [[0.34423298]]\n",
      "[[-0.82617331]] [[0.34423298]]\n",
      "[[-0.82617331]] [[0.34423298]]\n",
      "[[-0.82617331]] [[0.34423298]]\n",
      "[[-0.82617331]] [[0.34423298]]\n",
      "[[-0.82617331]] [[0.34423298]]\n",
      "[[-0.82617331]] [[0.34423298]]\n"
     ]
    }
   ],
   "source": [
    "# KL Divergence\n",
    "epochs = 5000\n",
    "m = VI(13, 10)\n",
    "optim = torch.optim.Adam(m.parameters(), lr=0.01)\n",
    "criterion = KL()\n",
    "\n",
    "for epoch in range(epochs):\n",
    "    optim.zero_grad()\n",
    "    y_pred, mu, log_var = m(X_train)\n",
    "    #loss = -criterion.compute_bound(Y_train.reshape((Y_train.shape[0],1)), y_pred)\n",
    "    loss = -criterion.compute_bound(y_pred, Y_train.reshape((Y_train.shape[0],1)))\n",
    "    loss.backward()\n",
    "    optim.step()\n",
    "\n",
    "    if epoch%500==0:\n",
    "        #print('Loss at epoch{}:{}'.format(epoch, loss))\n",
    "        print(criterion.qm.data.numpy(), (criterion.softplus(criterion.qs).data**2).numpy())"
   ]
  },
  {
   "cell_type": "markdown",
   "metadata": {},
   "source": [
    "**True**"
   ]
  },
  {
   "cell_type": "code",
   "execution_count": 127,
   "metadata": {},
   "outputs": [
    {
     "data": {
      "text/plain": [
       "<matplotlib.collections.PathCollection at 0x7f8d5f315c50>"
      ]
     },
     "execution_count": 127,
     "metadata": {},
     "output_type": "execute_result"
    },
    {
     "data": {
      "image/png": "[encoded data removed]",
      "text/plain": [
       "<Figure size 432x288 with 1 Axes>"
      ]
     },
     "metadata": {
      "needs_background": "light"
     },
     "output_type": "display_data"
    }
   ],
   "source": [
    "# Visualization for one feature vs Price\n",
    "plt.scatter(X_train[:,5], y_train)"
   ]
  },
  {
   "cell_type": "markdown",
   "metadata": {},
   "source": [
    "**Predicted**"
   ]
  },
  {
   "cell_type": "code",
   "execution_count": 128,
   "metadata": {},
   "outputs": [
    {
     "data": {
      "text/plain": [
       "<matplotlib.collections.PathCollection at 0x7f8d5f35bc90>"
      ]
     },
     "execution_count": 128,
     "metadata": {},
     "output_type": "execute_result"
    },
    {
     "data": {
      "image/png": "[encoded data removed]",
      "text/plain": [
       "<Figure size 432x288 with 1 Axes>"
      ]
     },
     "metadata": {
      "needs_background": "light"
     },
     "output_type": "display_data"
    }
   ],
   "source": [
    "# Visualization for one feature vs predicted price\n",
    "plt.scatter(X_train[:,5], y_pred.detach().cpu().numpy())"
   ]
  },
  {
   "cell_type": "markdown",
   "metadata": {},
   "source": [
    "### AB divergence method"
   ]
  },
  {
   "cell_type": "code",
   "execution_count": 132,
   "metadata": {
    "colab": {
     "base_uri": "https://localhost:8080/",
     "height": 351
    },
    "id": "XQjbgQxLFKOE",
    "outputId": "7b7cf3b9-e447-474e-f370-60dc1feb1575"
   },
   "outputs": [
    {
     "name": "stdout",
     "output_type": "stream",
     "text": [
      "Loss at epoch0:1789.433358885329\n",
      "Loss at epoch500:1774.9971546155382\n",
      "Loss at epoch1000:1773.7308296758752\n",
      "Loss at epoch1500:1769.379520904708\n",
      "Loss at epoch2000:1774.0178170432177\n",
      "Loss at epoch2500:1772.61242875131\n",
      "Loss at epoch3000:1774.094824011341\n",
      "Loss at epoch3500:1774.416202151414\n",
      "Loss at epoch4000:1774.5294042259916\n",
      "Loss at epoch4500:1770.3906019976966\n"
     ]
    }
   ],
   "source": [
    "# AB Divergence\n",
    "epochs = 5000\n",
    "m = VI(13, 10)\n",
    "optim = torch.optim.Adam(m.parameters(), lr=0.01)\n",
    "criterion = AB(alpha = 1.2, beta = -0.1, latent_dim=13)\n",
    "\n",
    "for epoch in range(epochs):\n",
    "    optim.zero_grad()\n",
    "    y_pred, mu, log_var = m(X_train)\n",
    "    loss = -criterion.compute_bound(X_train, y_pred)\n",
    "    loss.backward()\n",
    "    optim.step()\n",
    "\n",
    "    if epoch%500==0:\n",
    "        print('Loss at epoch{}:{}'.format(epoch, loss))"
   ]
  },
  {
   "cell_type": "markdown",
   "metadata": {},
   "source": [
    "**_predicted_**"
   ]
  },
  {
   "cell_type": "code",
   "execution_count": 133,
   "metadata": {},
   "outputs": [
    {
     "data": {
      "text/plain": [
       "<matplotlib.collections.PathCollection at 0x7f8d5f3ed910>"
      ]
     },
     "execution_count": 133,
     "metadata": {},
     "output_type": "execute_result"
    },
    {
     "data": {
      "image/png": "[encoded data removed]",
      "text/plain": [
       "<Figure size 432x288 with 1 Axes>"
      ]
     },
     "metadata": {
      "needs_background": "light"
     },
     "output_type": "display_data"
    }
   ],
   "source": [
    "# Visualization for one feature vs predicted price\n",
    "plt.scatter(X_train[:,5], y_pred.detach().cpu().numpy())"
   ]
  },
  {
   "cell_type": "markdown",
   "metadata": {},
   "source": [
    "### Renyi method"
   ]
  },
  {
   "cell_type": "code",
   "execution_count": 143,
   "metadata": {},
   "outputs": [
    {
     "name": "stdout",
     "output_type": "stream",
     "text": [
      "Loss at epoch0:1082.2992811093652\n",
      "Loss at epoch500:1067.8203328342593\n",
      "Loss at epoch1000:1067.6701232164235\n",
      "Loss at epoch1500:1067.6614512406522\n",
      "Loss at epoch2000:1068.7175054660706\n",
      "Loss at epoch2500:1067.4652152275983\n",
      "Loss at epoch3000:1067.7553555387299\n",
      "Loss at epoch3500:1067.4958623468376\n",
      "Loss at epoch4000:1067.7717343703741\n",
      "Loss at epoch4500:1067.404274793364\n"
     ]
    }
   ],
   "source": [
    "# Renyi Divergence\n",
    "epochs = 5000\n",
    "m = VI(13, 10)\n",
    "optim = torch.optim.Adam(m.parameters(), lr=0.01)\n",
    "criterion = Renyi(alpha=0.5, latent_dim=13)\n",
    "\n",
    "for epoch in range(epochs):\n",
    "    optim.zero_grad()\n",
    "    y_pred, mu, log_var = m(X_train)\n",
    "    loss = -criterion.compute_bound(X_train, y_pred)\n",
    "    loss.backward()\n",
    "    optim.step()\n",
    "\n",
    "    if epoch%500==0:\n",
    "        print('Loss at epoch{}:{}'.format(epoch, loss))"
   ]
  },
  {
   "cell_type": "code",
   "execution_count": 144,
   "metadata": {},
   "outputs": [
    {
     "data": {
      "text/plain": [
       "<matplotlib.collections.PathCollection at 0x7f8d5ea48a90>"
      ]
     },
     "execution_count": 144,
     "metadata": {},
     "output_type": "execute_result"
    },
    {
     "data": {
      "image/png": "[encoded data removed]",
      "text/plain": [
       "<Figure size 432x288 with 1 Axes>"
      ]
     },
     "metadata": {
      "needs_background": "light"
     },
     "output_type": "display_data"
    }
   ],
   "source": [
    "# Prediction\n",
    "plt.scatter(X_train[:,5], y_pred.detach().cpu().numpy())"
   ]
  },
  {
   "cell_type": "code",
   "execution_count": null,
   "metadata": {},
   "outputs": [],
   "source": []
  },
  {
   "cell_type": "code",
   "execution_count": null,
   "metadata": {},
   "outputs": [],
   "source": []
  },
  {
   "cell_type": "code",
   "execution_count": null,
   "metadata": {},
   "outputs": [],
   "source": []
  },
  {
   "cell_type": "code",
   "execution_count": null,
   "metadata": {},
   "outputs": [],
   "source": []
  },
  {
   "cell_type": "code",
   "execution_count": null,
   "metadata": {},
   "outputs": [],
   "source": []
  },
  {
   "cell_type": "code",
   "execution_count": null,
   "metadata": {},
   "outputs": [],
   "source": []
  },
  {
   "cell_type": "code",
   "execution_count": null,
   "metadata": {},
   "outputs": [],
   "source": []
  },
  {
   "cell_type": "code",
   "execution_count": null,
   "metadata": {},
   "outputs": [],
   "source": []
  },
  {
   "cell_type": "code",
   "execution_count": 23,
   "metadata": {},
   "outputs": [
    {
     "data": {
      "text/plain": [
       "True"
      ]
     },
     "execution_count": 23,
     "metadata": {},
     "output_type": "execute_result"
    }
   ],
   "source": [
    "mu = torch.Tensor([0] * 100)\n",
    "sd = torch.Tensor([2] * 100)\n",
    "\n",
    "p = torch.distributions.Normal(mu,sd)\n",
    "q = torch.distributions.Normal(mu,sd)\n",
    "\n",
    "out = torch.distributions.kl_divergence(p, q).mean()\n",
    "out.tolist() == 0"
   ]
  },
  {
   "cell_type": "code",
   "execution_count": 38,
   "metadata": {},
   "outputs": [
    {
     "data": {
      "text/plain": [
       "(torch.Size([100]), torch.Size([]))"
      ]
     },
     "execution_count": 38,
     "metadata": {},
     "output_type": "execute_result"
    }
   ],
   "source": [
    "p.batch_shape, p.event_shape"
   ]
  },
  {
   "cell_type": "code",
   "execution_count": 79,
   "metadata": {},
   "outputs": [
    {
     "data": {
      "text/plain": [
       "(torch.Size([120]), torch.Size([2]))"
      ]
     },
     "execution_count": 79,
     "metadata": {},
     "output_type": "execute_result"
    }
   ],
   "source": [
    "P = torch.distributions.multivariate_normal.MultivariateNormal(torch.randn(120, 2), torch.eye(2))\n",
    "Q = torch.distributions.multivariate_normal.MultivariateNormal(torch.randn(120, 2), torch.eye(2))\n",
    "P.batch_shape, P.event_shape"
   ]
  },
  {
   "cell_type": "code",
   "execution_count": 80,
   "metadata": {},
   "outputs": [
    {
     "data": {
      "text/plain": [
       "False"
      ]
     },
     "execution_count": 80,
     "metadata": {},
     "output_type": "execute_result"
    }
   ],
   "source": [
    "out = torch.distributions.kl_divergence(P, Q).mean()\n",
    "out.tolist() == 0"
   ]
  },
  {
   "cell_type": "code",
   "execution_count": 81,
   "metadata": {},
   "outputs": [
    {
     "data": {
      "text/plain": [
       "tensor(1.8930)"
      ]
     },
     "execution_count": 81,
     "metadata": {},
     "output_type": "execute_result"
    }
   ],
   "source": [
    "out"
   ]
  },
  {
   "cell_type": "code",
   "execution_count": null,
   "metadata": {},
   "outputs": [],
   "source": [
    "batched_mvn.loc"
   ]
  },
  {
   "cell_type": "code",
   "execution_count": null,
   "metadata": {},
   "outputs": [],
   "source": [
    "batched_mvn.covariance_matrix"
   ]
  },
  {
   "cell_type": "code",
   "execution_count": 70,
   "metadata": {},
   "outputs": [],
   "source": [
    "X = batched_mvn.rsample()"
   ]
  },
  {
   "cell_type": "code",
   "execution_count": 71,
   "metadata": {},
   "outputs": [
    {
     "data": {
      "text/plain": [
       "Text(0, 0.5, 'y')"
      ]
     },
     "execution_count": 71,
     "metadata": {},
     "output_type": "execute_result"
    },
    {
     "data": {
      "image/png": "[encoded data removed]",
      "text/plain": [
       "<Figure size 432x288 with 1 Axes>"
      ]
     },
     "metadata": {
      "needs_background": "light"
     },
     "output_type": "display_data"
    }
   ],
   "source": [
    "plt.scatter(X[:, 0], X[:, 1], s=50)\n",
    "plt.title(f\"Example of a mixture of {2} distributions\")\n",
    "plt.xlabel(\"x\")\n",
    "plt.ylabel(\"y\")"
   ]
  }
 ],
 "metadata": {
  "colab": {
   "collapsed_sections": [],
   "name": "ABdivergence.ipynb",
   "provenance": []
  },
  "kernelspec": {
   "display_name": "Python 3.7.4 64-bit ('py37': conda)",
   "language": "python",
   "name": "python37464bitpy37conda4882f11bbfdc4f7eb6de48bfaf378a30"
  },
  "language_info": {
   "codemirror_mode": {
    "name": "ipython",
    "version": 3
   },
   "file_extension": ".py",
   "mimetype": "text/x-python",
   "name": "python",
   "nbconvert_exporter": "python",
   "pygments_lexer": "ipython3",
   "version": "3.7.4"
  }
 },
 "nbformat": 4,
 "nbformat_minor": 4
}

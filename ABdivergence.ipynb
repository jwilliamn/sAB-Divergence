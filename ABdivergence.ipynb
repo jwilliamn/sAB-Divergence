{
  "nbformat": 4,
  "nbformat_minor": 0,
  "metadata": {
    "colab": {
      "name": "ABdivergence.ipynb",
      "provenance": [],
      "collapsed_sections": []
    },
    "kernelspec": {
      "name": "python3",
      "display_name": "Python 3"
    }
  },
  "cells": [
    {
      "cell_type": "code",
      "metadata": {
        "id": "_8pZghrtkVLp"
      },
      "source": [
        "import numpy as np\n",
        "import torch\n",
        "from torch import nn\n",
        "from sklearn import datasets\n",
        "import matplotlib.pyplot as plt\n",
        "from torch.autograd import Variable\n",
        "\n",
        "w0 = 0.125\n",
        "b0 = 5.\n",
        "x_range = [-20, 60]\n",
        "\n",
        "def load_dataset(n=150, n_tst=150):\n",
        "    np.random.seed(43)\n",
        "\n",
        "    def s(x):\n",
        "        g = (x - x_range[0]) / (x_range[1] - x_range[0])\n",
        "        return 3 * (0.25 + g**2.)\n",
        "\n",
        "    x = (x_range[1] - x_range[0]) * np.random.rand(n) + x_range[0]\n",
        "    eps = np.random.randn(n) * s(x)\n",
        "    y = (w0 * x * (1. + np.sin(x)) + b0) + eps\n",
        "    y = (y - y.mean()) / y.std()\n",
        "    idx = np.argsort(x)\n",
        "    x = x[idx]\n",
        "    y = y[idx]\n",
        "    return y[:, None], x[:, None]\n",
        "\n",
        "y, x = load_dataset()"
      ],
      "execution_count": 4,
      "outputs": []
    },
    {
      "cell_type": "code",
      "metadata": {
        "id": "QJ_M65ar_UAj"
      },
      "source": [
        "import seaborn as sns"
      ],
      "execution_count": 5,
      "outputs": []
    },
    {
      "cell_type": "code",
      "metadata": {
        "id": "9BAdx7silVX8",
        "outputId": "59242b8d-2a30-4129-e14c-2dd19001dc24",
        "colab": {
          "base_uri": "https://localhost:8080/",
          "height": 391
        }
      },
      "source": [
        "fig = plt.figure(figsize=[10,6])\n",
        "plt.scatter(x, y)"
      ],
      "execution_count": 9,
      "outputs": [
        {
          "output_type": "execute_result",
          "data": {
            "text/plain": [
              "<matplotlib.collections.PathCollection at 0x7f4403a19400>"
            ]
          },
          "metadata": {
            "tags": []
          },
          "execution_count": 9
        },
        {
          "output_type": "display_data",
          "data": {
            "image/png": "[encoded data removed]",
            "text/plain": [
              "<Figure size 720x432 with 1 Axes>"
            ]
          },
          "metadata": {
            "tags": [],
            "needs_background": "light"
          }
        }
      ]
    },
    {
      "cell_type": "code",
      "metadata": {
        "id": "WYE0wSdokdgJ"
      },
      "source": [
        "# Go to pytorch world\n",
        "X = torch.tensor(x, dtype=torch.float)\n",
        "Y = torch.tensor(y, dtype=torch.float)\n",
        "\n",
        "class MaximumLikelihood(nn.Module):\n",
        "    def __init__(self):\n",
        "        super().__init__()\n",
        "        self.out = nn.Sequential(\n",
        "            nn.Linear(1, 20),\n",
        "            nn.ReLU(),\n",
        "            nn.Linear(20, 1)\n",
        "        )\n",
        "    def forward(self, x):\n",
        "        return self.out(x)\n",
        "    \n",
        "epochs = 200\n",
        "m = MaximumLikelihood()\n",
        "optim = torch.optim.Adam(m.parameters(), lr=0.01)\n",
        "\n",
        "for epoch in range(epochs):\n",
        "    optim.zero_grad()\n",
        "    y_pred = m(X)\n",
        "    loss = (0.5 * (y_pred - Y)**2).mean()\n",
        "    loss.backward()\n",
        "    optim.step()"
      ],
      "execution_count": 10,
      "outputs": []
    },
    {
      "cell_type": "code",
      "metadata": {
        "id": "p4sCIMlNliyU",
        "outputId": "0b2f87bb-ef39-4f68-a408-238e98e9fc6c",
        "colab": {
          "base_uri": "https://localhost:8080/",
          "height": 391
        }
      },
      "source": [
        "fig = plt.figure(figsize=[10,6])\n",
        "plt.scatter(x, y)\n",
        "plt.plot(x, y_pred.detach().numpy(), 'k-', color = 'r')\n",
        "#plt.add_line(y_pred.detach().numpy())\n"
      ],
      "execution_count": 12,
      "outputs": [
        {
          "output_type": "execute_result",
          "data": {
            "text/plain": [
              "[<matplotlib.lines.Line2D at 0x7f44039d91d0>]"
            ]
          },
          "metadata": {
            "tags": []
          },
          "execution_count": 12
        },
        {
          "output_type": "display_data",
          "data": {
            "image/png": "[encoded data removed]",
            "text/plain": [
              "<Figure size 720x432 with 1 Axes>"
            ]
          },
          "metadata": {
            "tags": [],
            "needs_background": "light"
          }
        }
      ]
    },
    {
      "cell_type": "code",
      "metadata": {
        "id": "Gin8012jxwQF"
      },
      "source": [
        "class VI(nn.Module):\n",
        "    def __init__(self, input=1, hidden=10):\n",
        "        super().__init__()\n",
        "\n",
        "        self.q_mu = nn.Sequential(\n",
        "            nn.Linear(input, hidden*2),\n",
        "            nn.ReLU(),\n",
        "            nn.Linear(hidden*2, hidden),\n",
        "            nn.ReLU(),\n",
        "            nn.Linear(hidden, 1)\n",
        "        )\n",
        "        self.q_log_var = nn.Sequential(\n",
        "            nn.Linear(input, hidden*2),\n",
        "            nn.ReLU(),\n",
        "            nn.Linear(hidden*2, hidden),\n",
        "            nn.ReLU(),\n",
        "            nn.Linear(hidden, 1)\n",
        "        )\n",
        "\n",
        "    def reparameterize(self, mu, log_var):\n",
        "        # std can not be negative, thats why we use log variance\n",
        "        sigma = torch.exp(0.5 * log_var) + 1e-5\n",
        "        eps = torch.randn_like(sigma)\n",
        "        return mu + sigma * eps\n",
        "\n",
        "    def forward(self, x):\n",
        "        mu = self.q_mu(x)\n",
        "        log_var = self.q_log_var(x)\n",
        "        return self.reparameterize(mu, log_var), mu, log_var"
      ],
      "execution_count": 13,
      "outputs": []
    },
    {
      "cell_type": "code",
      "metadata": {
        "id": "ctPI5Y-l35jT"
      },
      "source": [
        "def ll_gaussian(y, mu, log_var):\n",
        "    sigma = torch.exp(0.5 * log_var)\n",
        "    return -0.5 * torch.log(2 * np.pi * sigma**2) - (1 / (2 * sigma**2))* (y-mu)**2"
      ],
      "execution_count": 14,
      "outputs": []
    },
    {
      "cell_type": "code",
      "metadata": {
        "id": "_vPrx1Bl39pe"
      },
      "source": [
        "def elbo(y_pred, y, mu, log_var):\n",
        "    # likelihood of observing y given Variational mu and sigma\n",
        "    likelihood = ll_gaussian(y, mu, log_var)\n",
        "    \n",
        "    # prior probability of y_pred\n",
        "    log_prior = ll_gaussian(y_pred, 0, torch.log(torch.tensor(1.)))\n",
        "    \n",
        "    # variational probability of y_pred\n",
        "    log_p_q = ll_gaussian(y_pred, mu, log_var)\n",
        "    \n",
        "    # by taking the mean we approximate the expectation\n",
        "    return (likelihood + log_prior - log_p_q).mean()\n",
        "\n",
        "def det_loss(y_pred, y, mu, log_var):\n",
        "    return -elbo(y_pred, y, mu, log_var)"
      ],
      "execution_count": 15,
      "outputs": []
    },
    {
      "cell_type": "code",
      "metadata": {
        "id": "GUxFWKE8BPD2"
      },
      "source": [
        ""
      ],
      "execution_count": null,
      "outputs": []
    },
    {
      "cell_type": "code",
      "metadata": {
        "id": "UgkXdmQPBWSC"
      },
      "source": [
        "def log_norm(x, mu, std):\n",
        "    \"\"\"Compute the log pdf of x,\n",
        "    under a normal distribution with mean mu and standard deviation std.\"\"\"\n",
        "    \n",
        "    return -0.5 * torch.log(2*np.pi*std**2) -(0.5 * (1/(std**2))* (x-mu)**2)"
      ],
      "execution_count": 16,
      "outputs": []
    },
    {
      "cell_type": "code",
      "metadata": {
        "id": "K76kjiGrBPP0"
      },
      "source": [
        "class AB(torch.nn.Module):\n",
        "    def __init__(self, alpha, beta):\n",
        "        super(AB, self).__init__()\n",
        "        self.n_latent = 100 # Number of latent samples\n",
        "        self.softplus = torch.nn.Softplus()\n",
        "        self.alpha = alpha\n",
        "        self.beta = beta\n",
        "        \n",
        "        #The parameters we adjust during training.\n",
        "        self.qm = torch.nn.Parameter(torch.randn(1,1).double(), requires_grad=True)\n",
        "        self.qs = torch.nn.Parameter(torch.randn(1,1).double(), requires_grad=True)\n",
        "        \n",
        "        #create holders for prior mean and std, and likelihood std.\n",
        "        self.prior_m = torch.randn(1,1).double()\n",
        "        self.prior_s = torch.randn(1,1).double()\n",
        "        self.likelihood_s = torch.DoubleTensor((1))\n",
        "        \n",
        "        #Set the prior and likelihood moments.\n",
        "        self.prior_s.data.fill_(1.0)\n",
        "        self.prior_m.data.fill_(0.9)\n",
        "        self.likelihood_s.data.fill_(5.5)\n",
        "\n",
        "        \n",
        "    def generate_rand(self):\n",
        "        return np.random.normal(size=(self.n_latent,1))\n",
        "    \n",
        "    def reparam(self, eps):\n",
        "        eps = Variable(torch.DoubleTensor(eps))\n",
        "        return  eps.mul(self.softplus(self.qs)).add(self.qm)\n",
        "    \n",
        "    def compute_bound(self, x, t):\n",
        "        eps = self.generate_rand()\n",
        "        z = self.reparam(eps)\n",
        "        q_likelihood = log_norm(z, self.qm, self.softplus(self.qs))\n",
        "        prior = log_norm(z, self.prior_m, self.prior_s)\n",
        "        likelihood = torch.sum(log_norm(t, x*z.transpose(0,1), self.likelihood_s), 0, keepdim=True).transpose(0,1)\n",
        "        \n",
        "        \n",
        "        r1 = (self.alpha + self.beta)*(prior + likelihood) - q_likelihood\n",
        "        c1 = torch.max(r1)\n",
        "        exp1 = torch.exp((r1-c1))\n",
        "        \n",
        "        r2 = (self.alpha + self.beta -1)* q_likelihood\n",
        "        c2 = torch.max(r2)\n",
        "        exp2 = torch.exp((r2-c2))\n",
        "        \n",
        "        r3 = self.beta * (prior + likelihood) - (1- self.alpha) * q_likelihood\n",
        "        c3 = torch.max(r3)\n",
        "        exp3 = torch.exp((r3-c3))\n",
        "\n",
        "        loss1 = (torch.log(torch.mean(exp1)) + c1) / ((self.beta + self.alpha) * self.alpha ) \n",
        "        loss2 = (torch.log(torch.mean(exp2)) + c2) / ((self.beta + self.alpha) * self.beta  ) \n",
        "        loss3 = (torch.log(torch.mean(exp3)) + c3) / (self.beta * self.alpha ) \n",
        "       \n",
        "        return loss1 + loss2 + loss3\n",
        "    "
      ],
      "execution_count": 17,
      "outputs": []
    },
    {
      "cell_type": "code",
      "metadata": {
        "id": "1HxVh-6R4D7q"
      },
      "source": [
        "epochs = 1500\n",
        "\n",
        "m = VI()\n",
        "optim = torch.optim.Adam(m.parameters(), lr=0.005)\n",
        "\n",
        "for epoch in range(epochs):\n",
        "    optim.zero_grad()\n",
        "    y_pred, mu, log_var = m(X)\n",
        "    loss = det_loss(y_pred, Y, mu, log_var)\n",
        "    loss.backward()\n",
        "    optim.step()"
      ],
      "execution_count": 18,
      "outputs": []
    },
    {
      "cell_type": "code",
      "metadata": {
        "id": "GhczvTfz4IUJ",
        "outputId": "90a2bec1-b990-4533-ea6f-0f89bfb7ef8a",
        "colab": {
          "base_uri": "https://localhost:8080/",
          "height": 391
        }
      },
      "source": [
        "# draw samples from Q(theta)\n",
        "with torch.no_grad():\n",
        "    y_pred = torch.cat([m(X)[0] for _ in range(1000)], dim=1)\n",
        "    \n",
        "# Get some quantiles\n",
        "q1, mu, q2 = np.quantile(y_pred, [0.05, 0.5, 0.95], axis=1)\n",
        "\n",
        "plt.figure(figsize=(16, 6))\n",
        "plt.scatter(X, Y)\n",
        "plt.plot(X, mu)\n",
        "plt.fill_between(X.flatten(), q1, q2, alpha=0.2)"
      ],
      "execution_count": 19,
      "outputs": [
        {
          "output_type": "execute_result",
          "data": {
            "text/plain": [
              "<matplotlib.collections.PolyCollection at 0x7f44030e9048>"
            ]
          },
          "metadata": {
            "tags": []
          },
          "execution_count": 19
        },
        {
          "output_type": "display_data",
          "data": {
            "image/png": "[encoded data removed]",
            "text/plain": [
              "<Figure size 1152x432 with 1 Axes>"
            ]
          },
          "metadata": {
            "tags": [],
            "needs_background": "light"
          }
        }
      ]
    },
    {
      "cell_type": "code",
      "metadata": {
        "id": "L36Fub8gxwFM"
      },
      "source": [
        "# Training using AB divergencee"
      ],
      "execution_count": null,
      "outputs": []
    },
    {
      "cell_type": "code",
      "metadata": {
        "id": "Z6yLDBH-5plF"
      },
      "source": [
        "epochs = 2500\n",
        "\n",
        "alphas = [-1, -0.5, -0.25, 0, 0.5, 1.0, 1.25, 1.5, 1.7, 2.]\n",
        "betas = [-1, -0.5, -0.25, 0, 0.5, 1.0, 1.25, 1.5, 1.7, 2.]\n",
        "\n",
        "losses = {}\n",
        "\n",
        "for al in alphas:\n",
        "    for be in betas:\n",
        "\n",
        "        m = VI()\n",
        "        optim = torch.optim.Adam(m.parameters(), lr=0.001)\n",
        "        c = AB(alpha = al, beta = be)\n",
        "\n",
        "        for epoch in range(epochs):\n",
        "            optim.zero_grad()\n",
        "            y_pred, mu, log_var = m(X)\n",
        "            loss = -c.compute_bound(X, Y)\n",
        "            loss.backward()\n",
        "            optim.step()\n",
        "\n",
        "            if epoch%500==0:\n",
        "                print(loss.detach().numpy())\n",
        "        losses[(al,be)] = loss"
      ],
      "execution_count": null,
      "outputs": []
    },
    {
      "cell_type": "code",
      "metadata": {
        "id": "nlWOKfYwytIz"
      },
      "source": [
        "#losses"
      ],
      "execution_count": 107,
      "outputs": []
    },
    {
      "cell_type": "code",
      "metadata": {
        "id": "5C--mVgSzehC",
        "outputId": "16dbb511-53a3-4212-8527-be492c7488e6",
        "colab": {
          "base_uri": "https://localhost:8080/",
          "height": 119
        }
      },
      "source": [
        "epochs = 3000\n",
        "m = VI()\n",
        "optim = torch.optim.Adam(m.parameters(), lr=0.005)\n",
        "c = AB(alpha = 1.25, beta = -0.3)\n",
        "\n",
        "for epoch in range(epochs):\n",
        "    optim.zero_grad()\n",
        "    y_pred, mu, log_var = m(X)\n",
        "    loss = -c.compute_bound(X, Y)\n",
        "    loss.backward()\n",
        "    optim.step()\n",
        "\n",
        "    if epoch%500==0:\n",
        "        #print(loss.detach().numpy())\n",
        "        print(c.qm.data.numpy(), (c.softplus(c.qs).data**2).numpy())"
      ],
      "execution_count": 40,
      "outputs": [
        {
          "output_type": "stream",
          "text": [
            "[[0.03982266]] [[1.06082483]]\n",
            "[[0.03982266]] [[1.06082483]]\n",
            "[[0.03982266]] [[1.06082483]]\n",
            "[[0.03982266]] [[1.06082483]]\n",
            "[[0.03982266]] [[1.06082483]]\n",
            "[[0.03982266]] [[1.06082483]]\n"
          ],
          "name": "stdout"
        }
      ]
    },
    {
      "cell_type": "code",
      "metadata": {
        "id": "Zz7NJ6yV6KCH",
        "outputId": "cc9b3856-93dc-423c-dbbe-c0784d2f3c6b",
        "colab": {
          "base_uri": "https://localhost:8080/",
          "height": 391
        }
      },
      "source": [
        "# draw samples from Q(theta)\n",
        "with torch.no_grad():\n",
        "    y_pred = torch.cat([m(X)[0] for _ in range(1000)], dim=1)\n",
        "    \n",
        "# Get some quantiles\n",
        "q1, mu, q2 = np.quantile(y_pred, [0.05, 0.5, 0.95], axis=1)\n",
        "\n",
        "plt.figure(figsize=(16, 6))\n",
        "plt.scatter(X, Y)\n",
        "plt.plot(X, mu)\n",
        "plt.fill_between(X.flatten(), q1, q2, alpha=0.2)"
      ],
      "execution_count": 39,
      "outputs": [
        {
          "output_type": "execute_result",
          "data": {
            "text/plain": [
              "<matplotlib.collections.PolyCollection at 0x7f4402c6b4e0>"
            ]
          },
          "metadata": {
            "tags": []
          },
          "execution_count": 39
        },
        {
          "output_type": "display_data",
          "data": {
            "image/png": "[encoded data removed]",
            "text/plain": [
              "<Figure size 1152x432 with 1 Axes>"
            ]
          },
          "metadata": {
            "tags": [],
            "needs_background": "light"
          }
        }
      ]
    },
    {
      "cell_type": "code",
      "metadata": {
        "id": "KDZnt8vE6LDb"
      },
      "source": [
        ""
      ],
      "execution_count": null,
      "outputs": []
    },
    {
      "cell_type": "code",
      "metadata": {
        "id": "5BhfZD4uEgUy"
      },
      "source": [
        "class KL(torch.nn.Module):\n",
        "    def __init__(self):\n",
        "        super(KL, self).__init__()\n",
        "        self.n_latent = 100 # Number of latent samples\n",
        "        self.softplus = torch.nn.Softplus()\n",
        "        \n",
        "        #The parameters we adjust during training.\n",
        "        self.qm = torch.nn.Parameter(torch.randn(1,1).double(), requires_grad=True)\n",
        "        self.qs = torch.nn.Parameter(torch.randn(1,1).double(), requires_grad=True)\n",
        "        \n",
        "        #create holders for prior mean and std, and likelihood std.\n",
        "        self.prior_m = torch.randn(1,1).double()\n",
        "        self.prior_s = torch.randn(1,1).double()\n",
        "        self.likelihood_s = torch.DoubleTensor((1))\n",
        "        \n",
        "        #Set the prior and likelihood moments.\n",
        "        self.prior_s.data.fill_(1.0)\n",
        "        self.prior_m.data.fill_(0.9)\n",
        "        self.likelihood_s.data.fill_(5.5)\n",
        "\n",
        "        \n",
        "    def generate_rand(self):\n",
        "        return np.random.normal(size=(self.n_latent,1))\n",
        "    \n",
        "    def reparam(self, eps):\n",
        "        eps = Variable(torch.DoubleTensor(eps))\n",
        "        return  eps.mul(self.softplus(self.qs)).add(self.qm)\n",
        "    \n",
        "    def compute_bound(self, x, t):\n",
        "        eps = self.generate_rand()\n",
        "        z = self.reparam(eps)\n",
        "        q_likelihood = log_norm(z, self.qm, self.softplus(self.qs))\n",
        "        prior = log_norm(z, self.prior_m, self.prior_s)\n",
        "        likelihood = torch.sum(log_norm(t, x*z.transpose(0,1), self.likelihood_s), 0, keepdim=True).transpose(0,1)\n",
        "        \n",
        "        \n",
        "        r1 = prior + likelihood -q_likelihood\n",
        "        c1 = torch.max(r1)\n",
        "        exp1 = torch.exp((r1-c1))\n",
        "        \n",
        "        KL_div = (torch.log(torch.mean(exp1)) + c1)\n",
        "       \n",
        "        return KL_div"
      ],
      "execution_count": 41,
      "outputs": []
    },
    {
      "cell_type": "code",
      "metadata": {
        "id": "mSVftFcAElFZ"
      },
      "source": [
        "class Renyi(torch.nn.Module):\n",
        "    def __init__(self, alpha):\n",
        "        super(Renyi, self).__init__()\n",
        "        self.n_latent = 100 # Number of latent samples\n",
        "        self.softplus = torch.nn.Softplus()\n",
        "        self.alpha = alpha\n",
        "        \n",
        "        #The parameters we adjust during training.\n",
        "        self.qm = torch.nn.Parameter(torch.randn(1,1).double(), requires_grad=True)\n",
        "        self.qs = torch.nn.Parameter(torch.randn(1,1).double(), requires_grad=True)\n",
        "        \n",
        "        #create holders for prior mean and std, and likelihood std.\n",
        "        self.prior_m = torch.randn(1,1).double()\n",
        "        self.prior_s = torch.randn(1,1).double()\n",
        "        self.likelihood_s = torch.DoubleTensor((1))\n",
        "        \n",
        "        #Set the prior and likelihood moments.\n",
        "        self.prior_s.data.fill_(1.0)\n",
        "        self.prior_m.data.fill_(0.9)\n",
        "        self.likelihood_s.data.fill_(5.5)\n",
        "\n",
        "        \n",
        "    def generate_rand(self):\n",
        "        return np.random.normal(size=(self.n_latent,1))\n",
        "    \n",
        "    def reparam(self, eps):\n",
        "        eps = Variable(torch.DoubleTensor(eps))\n",
        "        return  eps.mul(self.softplus(self.qs)).add(self.qm)\n",
        "    \n",
        "    def compute_bound(self, x, t):\n",
        "        eps = self.generate_rand()\n",
        "        z = self.reparam(eps)\n",
        "        q_likelihood = log_norm(z, self.qm, self.softplus(self.qs))\n",
        "        prior = log_norm(z, self.prior_m, self.prior_s)\n",
        "        likelihood = torch.sum(log_norm(t, x*z.transpose(0,1), self.likelihood_s), 0, keepdim=True).transpose(0,1)\n",
        "        \n",
        "        r1 = (1-self.alpha)*(prior + likelihood -q_likelihood)\n",
        "        c1 = torch.max(r1)\n",
        "        exp1 = torch.exp((r1-c1))\n",
        "\n",
        "        renyi_div = (torch.log(torch.mean(exp1))+c1)/(1-self.alpha)\n",
        "        return renyi_div"
      ],
      "execution_count": 42,
      "outputs": []
    },
    {
      "cell_type": "code",
      "metadata": {
        "id": "1fiquiNpEpuw"
      },
      "source": [
        "c = KL()\n",
        "\n",
        "optimizer = torch.optim.Adam(c.parameters(),lr=0.01)\n",
        "x = torch.tensor(X)\n",
        "t = torch.tensor(T)\n",
        "\n",
        "for i in range(20001):\n",
        "    loss = -c.compute_bound(x, t)\n",
        "    optimizer.zero_grad()\n",
        "    loss.backward()\n",
        "    optimizer.step()\n",
        "    if i % 2500 ==0:\n",
        "        print(c.qm.data.numpy(), (c.softplus(c.qs).data**2).numpy())"
      ],
      "execution_count": null,
      "outputs": []
    },
    {
      "cell_type": "code",
      "metadata": {
        "id": "sb6KPR7ZE1KJ",
        "outputId": "8d95bb88-d248-448c-ba2d-d12ce3395dc7",
        "colab": {
          "base_uri": "https://localhost:8080/",
          "height": 119
        }
      },
      "source": [
        "epochs = 3000\n",
        "m = VI()\n",
        "optim = torch.optim.Adam(m.parameters(), lr=0.005)\n",
        "c = KL()\n",
        "\n",
        "for epoch in range(epochs):\n",
        "    optim.zero_grad()\n",
        "    y_pred, mu, log_var = m(X)\n",
        "    loss = -c.compute_bound(X, Y)\n",
        "    loss.backward()\n",
        "    optim.step()\n",
        "\n",
        "    if epoch%500==0:\n",
        "        #print(loss.detach().numpy())\n",
        "        print(c.qm.data.numpy(), (c.softplus(c.qs).data**2).numpy())"
      ],
      "execution_count": 43,
      "outputs": [
        {
          "output_type": "stream",
          "text": [
            "[[0.78867942]] [[0.75820043]]\n",
            "[[0.78867942]] [[0.75820043]]\n",
            "[[0.78867942]] [[0.75820043]]\n",
            "[[0.78867942]] [[0.75820043]]\n",
            "[[0.78867942]] [[0.75820043]]\n",
            "[[0.78867942]] [[0.75820043]]\n"
          ],
          "name": "stdout"
        }
      ]
    },
    {
      "cell_type": "code",
      "metadata": {
        "id": "nAgGlauoFRIO",
        "outputId": "db96ecb2-8c4e-479c-f4a8-763084bb87cb",
        "colab": {
          "base_uri": "https://localhost:8080/",
          "height": 119
        }
      },
      "source": [
        "epochs = 3000\n",
        "m = VI()\n",
        "optim = torch.optim.Adam(m.parameters(), lr=0.005)\n",
        "c = Renyi(alpha=0.5)\n",
        "\n",
        "for epoch in range(epochs):\n",
        "    optim.zero_grad()\n",
        "    y_pred, mu, log_var = m(X)\n",
        "    loss = -c.compute_bound(X, Y)\n",
        "    loss.backward()\n",
        "    optim.step()\n",
        "\n",
        "    if epoch%500==0:\n",
        "        #print(loss.detach().numpy())\n",
        "        print(c.qm.data.numpy(), (c.softplus(c.qs).data**2).numpy())"
      ],
      "execution_count": 49,
      "outputs": [
        {
          "output_type": "stream",
          "text": [
            "[[-0.84772676]] [[0.78587492]]\n",
            "[[-0.84772676]] [[0.78587492]]\n",
            "[[-0.84772676]] [[0.78587492]]\n",
            "[[-0.84772676]] [[0.78587492]]\n",
            "[[-0.84772676]] [[0.78587492]]\n",
            "[[-0.84772676]] [[0.78587492]]\n"
          ],
          "name": "stdout"
        }
      ]
    },
    {
      "cell_type": "markdown",
      "metadata": {
        "id": "IZV8cNPW4Iwn"
      },
      "source": [
        "**Boston Housing Dataset**\n"
      ]
    },
    {
      "cell_type": "code",
      "metadata": {
        "id": "eaicszf-4P4Q"
      },
      "source": [
        "from sklearn.datasets import load_boston\n",
        "from sklearn.preprocessing import StandardScaler\n",
        "from sklearn.model_selection import train_test_split\n",
        "\n"
      ],
      "execution_count": 173,
      "outputs": []
    },
    {
      "cell_type": "code",
      "metadata": {
        "id": "tOur2DYjB52W"
      },
      "source": [
        "x, y = load_boston(return_X_y=True)\n",
        "\n",
        "scaler = StandardScaler()\n",
        "x_ = scaler.fit_transform(x)\n",
        "\n",
        "X_train, X_val, y_train, y_val = train_test_split(x_, y, test_size=0.2)"
      ],
      "execution_count": 174,
      "outputs": []
    },
    {
      "cell_type": "code",
      "metadata": {
        "id": "W1HKFPzx5eKD",
        "outputId": "fc89903a-5b91-460c-b1be-fb823131c14b",
        "colab": {
          "base_uri": "https://localhost:8080/",
          "height": 282
        }
      },
      "source": [
        "plt.scatter(x_[:,5], y)"
      ],
      "execution_count": 168,
      "outputs": [
        {
          "output_type": "execute_result",
          "data": {
            "text/plain": [
              "<matplotlib.collections.PathCollection at 0x7f9e5277b4e0>"
            ]
          },
          "metadata": {
            "tags": []
          },
          "execution_count": 168
        },
        {
          "output_type": "display_data",
          "data": {
            "image/png": "[encoded data removed]",
            "text/plain": [
              "<Figure size 432x288 with 1 Axes>"
            ]
          },
          "metadata": {
            "tags": [],
            "needs_background": "light"
          }
        }
      ]
    },
    {
      "cell_type": "code",
      "metadata": {
        "id": "Gh4ilHwAEi57",
        "outputId": "2b4f68e7-33ed-4af4-ffb1-718c7d27eddf",
        "colab": {
          "base_uri": "https://localhost:8080/",
          "height": 34
        }
      },
      "source": [
        "y_pred.shape"
      ],
      "execution_count": 181,
      "outputs": [
        {
          "output_type": "execute_result",
          "data": {
            "text/plain": [
              "torch.Size([404, 1])"
            ]
          },
          "metadata": {
            "tags": []
          },
          "execution_count": 181
        }
      ]
    },
    {
      "cell_type": "code",
      "metadata": {
        "id": "hLfTg4bu4SkQ",
        "outputId": "0d29351d-bb68-482c-fe24-cc6bd1ed00be",
        "colab": {
          "base_uri": "https://localhost:8080/",
          "height": 275
        }
      },
      "source": [
        "X_train = torch.tensor(X_train, dtype=torch.float)\n",
        "Y_train = torch.tensor(y_train, dtype=torch.float)\n",
        "\n",
        "X_val = torch.tensor(X_val, dtype=torch.float)\n",
        "Y_val = torch.tensor(y_val, dtype=torch.float)\n",
        "\n",
        "\n",
        "# ELBO \n",
        "epochs = 5000\n",
        "m = VI(13, 10)\n",
        "optim = torch.optim.Adam(m.parameters(), lr=0.01)\n",
        "#criterion = torch.nn.MSELoss()\n",
        "\n",
        "for epoch in range(epochs):\n",
        "    optim.zero_grad()\n",
        "    y_pred, mu, log_var = m(X_train)\n",
        "    loss = det_loss(y_pred, Y, mu, log_var)\n",
        "    #loss = criterion(y_pred, Y_train)\n",
        "    loss.backward()\n",
        "    optim.step()\n",
        "\n",
        "    if epoch%500==0:\n",
        "        print('Loss at epoch{}:{}'.format(epoch, loss))"
      ],
      "execution_count": 196,
      "outputs": [
        {
          "output_type": "stream",
          "text": [
            "/usr/local/lib/python3.6/dist-packages/ipykernel_launcher.py:2: UserWarning: To copy construct from a tensor, it is recommended to use sourceTensor.clone().detach() or sourceTensor.clone().detach().requires_grad_(True), rather than torch.tensor(sourceTensor).\n",
            "  \n",
            "/usr/local/lib/python3.6/dist-packages/ipykernel_launcher.py:5: UserWarning: To copy construct from a tensor, it is recommended to use sourceTensor.clone().detach() or sourceTensor.clone().detach().requires_grad_(True), rather than torch.tensor(sourceTensor).\n",
            "  \"\"\"\n"
          ],
          "name": "stderr"
        },
        {
          "output_type": "stream",
          "text": [
            "Loss at epoch0:364.58544921875\n",
            "Loss at epoch500:24.23806381225586\n",
            "Loss at epoch1000:23.95490837097168\n",
            "Loss at epoch1500:24.197996139526367\n",
            "Loss at epoch2000:25.07879638671875\n",
            "Loss at epoch2500:22.717714309692383\n",
            "Loss at epoch3000:24.977493286132812\n",
            "Loss at epoch3500:24.718374252319336\n",
            "Loss at epoch4000:25.303466796875\n",
            "Loss at epoch4500:24.699045181274414\n"
          ],
          "name": "stdout"
        }
      ]
    },
    {
      "cell_type": "code",
      "metadata": {
        "id": "XQjbgQxLFKOE",
        "outputId": "7b7cf3b9-e447-474e-f370-60dc1feb1575",
        "colab": {
          "base_uri": "https://localhost:8080/",
          "height": 351
        }
      },
      "source": [
        "# AB Divergence\n",
        "epochs = 5000\n",
        "m = VI(13, 10)\n",
        "optim = torch.optim.Adam(m.parameters(), lr=0.01)\n",
        "criterion = AB(alpha = 1.2, beta = -0.1)\n",
        "\n",
        "for epoch in range(epochs):\n",
        "    optim.zero_grad()\n",
        "    y_pred, mu, log_var = m(X_train)\n",
        "    loss = -criterion.compute_bound(X_train, y_pred)\n",
        "    loss.backward()\n",
        "    optim.step()\n",
        "\n",
        "    if epoch%500==0:\n",
        "        print('Loss at epoch{}:{}'.format(epoch, loss))"
      ],
      "execution_count": 197,
      "outputs": [
        {
          "output_type": "error",
          "ename": "RuntimeError",
          "evalue": "ignored",
          "traceback": [
            "\u001b[0;31m---------------------------------------------------------------------------\u001b[0m",
            "\u001b[0;31mRuntimeError\u001b[0m                              Traceback (most recent call last)",
            "\u001b[0;32m<ipython-input-197-e143ab5a1fcd>\u001b[0m in \u001b[0;36m<module>\u001b[0;34m()\u001b[0m\n\u001b[1;32m      8\u001b[0m     \u001b[0moptim\u001b[0m\u001b[0;34m.\u001b[0m\u001b[0mzero_grad\u001b[0m\u001b[0;34m(\u001b[0m\u001b[0;34m)\u001b[0m\u001b[0;34m\u001b[0m\u001b[0;34m\u001b[0m\u001b[0m\n\u001b[1;32m      9\u001b[0m     \u001b[0my_pred\u001b[0m\u001b[0;34m,\u001b[0m \u001b[0mmu\u001b[0m\u001b[0;34m,\u001b[0m \u001b[0mlog_var\u001b[0m \u001b[0;34m=\u001b[0m \u001b[0mm\u001b[0m\u001b[0;34m(\u001b[0m\u001b[0mX_train\u001b[0m\u001b[0;34m)\u001b[0m\u001b[0;34m\u001b[0m\u001b[0;34m\u001b[0m\u001b[0m\n\u001b[0;32m---> 10\u001b[0;31m     \u001b[0mloss\u001b[0m \u001b[0;34m=\u001b[0m \u001b[0;34m-\u001b[0m\u001b[0mcriterion\u001b[0m\u001b[0;34m.\u001b[0m\u001b[0mcompute_bound\u001b[0m\u001b[0;34m(\u001b[0m\u001b[0mX_train\u001b[0m\u001b[0;34m,\u001b[0m \u001b[0my_pred\u001b[0m\u001b[0;34m)\u001b[0m\u001b[0;34m\u001b[0m\u001b[0;34m\u001b[0m\u001b[0m\n\u001b[0m\u001b[1;32m     11\u001b[0m     \u001b[0mloss\u001b[0m\u001b[0;34m.\u001b[0m\u001b[0mbackward\u001b[0m\u001b[0;34m(\u001b[0m\u001b[0;34m)\u001b[0m\u001b[0;34m\u001b[0m\u001b[0;34m\u001b[0m\u001b[0m\n\u001b[1;32m     12\u001b[0m     \u001b[0moptim\u001b[0m\u001b[0;34m.\u001b[0m\u001b[0mstep\u001b[0m\u001b[0;34m(\u001b[0m\u001b[0;34m)\u001b[0m\u001b[0;34m\u001b[0m\u001b[0;34m\u001b[0m\u001b[0m\n",
            "\u001b[0;32m<ipython-input-172-591a2998eecb>\u001b[0m in \u001b[0;36mcompute_bound\u001b[0;34m(self, x, t)\u001b[0m\n\u001b[1;32m     34\u001b[0m         \u001b[0mq_likelihood\u001b[0m \u001b[0;34m=\u001b[0m \u001b[0mlog_norm\u001b[0m\u001b[0;34m(\u001b[0m\u001b[0mz\u001b[0m\u001b[0;34m,\u001b[0m \u001b[0mself\u001b[0m\u001b[0;34m.\u001b[0m\u001b[0mqm\u001b[0m\u001b[0;34m,\u001b[0m \u001b[0mself\u001b[0m\u001b[0;34m.\u001b[0m\u001b[0msoftplus\u001b[0m\u001b[0;34m(\u001b[0m\u001b[0mself\u001b[0m\u001b[0;34m.\u001b[0m\u001b[0mqs\u001b[0m\u001b[0;34m)\u001b[0m\u001b[0;34m)\u001b[0m\u001b[0;34m\u001b[0m\u001b[0;34m\u001b[0m\u001b[0m\n\u001b[1;32m     35\u001b[0m         \u001b[0mprior\u001b[0m \u001b[0;34m=\u001b[0m \u001b[0mlog_norm\u001b[0m\u001b[0;34m(\u001b[0m\u001b[0mz\u001b[0m\u001b[0;34m,\u001b[0m \u001b[0mself\u001b[0m\u001b[0;34m.\u001b[0m\u001b[0mprior_m\u001b[0m\u001b[0;34m,\u001b[0m \u001b[0mself\u001b[0m\u001b[0;34m.\u001b[0m\u001b[0mprior_s\u001b[0m\u001b[0;34m)\u001b[0m\u001b[0;34m\u001b[0m\u001b[0;34m\u001b[0m\u001b[0m\n\u001b[0;32m---> 36\u001b[0;31m         \u001b[0mlikelihood\u001b[0m \u001b[0;34m=\u001b[0m \u001b[0mtorch\u001b[0m\u001b[0;34m.\u001b[0m\u001b[0msum\u001b[0m\u001b[0;34m(\u001b[0m\u001b[0mlog_norm\u001b[0m\u001b[0;34m(\u001b[0m\u001b[0mt\u001b[0m\u001b[0;34m,\u001b[0m \u001b[0mx\u001b[0m\u001b[0;34m*\u001b[0m\u001b[0mz\u001b[0m\u001b[0;34m.\u001b[0m\u001b[0mtranspose\u001b[0m\u001b[0;34m(\u001b[0m\u001b[0;36m0\u001b[0m\u001b[0;34m,\u001b[0m\u001b[0;36m1\u001b[0m\u001b[0;34m)\u001b[0m\u001b[0;34m,\u001b[0m \u001b[0mself\u001b[0m\u001b[0;34m.\u001b[0m\u001b[0mlikelihood_s\u001b[0m\u001b[0;34m)\u001b[0m\u001b[0;34m,\u001b[0m \u001b[0;36m0\u001b[0m\u001b[0;34m,\u001b[0m \u001b[0mkeepdim\u001b[0m\u001b[0;34m=\u001b[0m\u001b[0;32mTrue\u001b[0m\u001b[0;34m)\u001b[0m\u001b[0;34m.\u001b[0m\u001b[0mtranspose\u001b[0m\u001b[0;34m(\u001b[0m\u001b[0;36m0\u001b[0m\u001b[0;34m,\u001b[0m\u001b[0;36m1\u001b[0m\u001b[0;34m)\u001b[0m\u001b[0;34m\u001b[0m\u001b[0;34m\u001b[0m\u001b[0m\n\u001b[0m\u001b[1;32m     37\u001b[0m \u001b[0;34m\u001b[0m\u001b[0m\n\u001b[1;32m     38\u001b[0m \u001b[0;34m\u001b[0m\u001b[0m\n",
            "\u001b[0;31mRuntimeError\u001b[0m: The size of tensor a (13) must match the size of tensor b (100) at non-singleton dimension 1"
          ]
        }
      ]
    }
  ]
}